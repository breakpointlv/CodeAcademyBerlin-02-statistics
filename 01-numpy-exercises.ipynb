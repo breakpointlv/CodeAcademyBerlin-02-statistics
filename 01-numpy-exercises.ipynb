{
 "cells": [
  {
   "cell_type": "code",
   "execution_count": 183,
   "metadata": {
    "collapsed": true
   },
   "outputs": [],
   "source": [
    "import numpy as np\n",
    "import math"
   ]
  },
  {
   "cell_type": "markdown",
   "source": [
    "## 1\n",
    "Given, there are 5 numbers in the data set: (8, 12, 16, 24, 4). What is the standard deviation? And, what will be the sum of deviations of individual data points from their mean?"
   ],
   "metadata": {
    "collapsed": false
   }
  },
  {
   "cell_type": "code",
   "execution_count": 184,
   "outputs": [
    {
     "name": "stdout",
     "output_type": "stream",
     "text": [
      "Manually calculated standard deviation is 6.881860213634101\n",
      "NumPy standard deviation is 6.881860213634101\n",
      "Shape: (5,)\n",
      "Dimentions: 1\n",
      "Size: 5\n"
     ]
    }
   ],
   "source": [
    "# manually\n",
    "mean = (8 + 12 + 16 + 24 + 4) / 5\n",
    "variance = ((mean - 8) ** 2 + (mean - 12) ** 2 + (mean - 16) ** 2 + (mean - 24) ** 2 + (mean - 4) ** 2) / 5\n",
    "st_dev = math.sqrt(variance)\n",
    "print(f\"Manually calculated standard deviation is {st_dev}\")\n",
    "\n",
    "np_arr = np.array([8, 12, 16, 24, 4])\n",
    "print(f\"NumPy standard deviation is {np_arr.std()}\")\n",
    "print(f\"Shape: {np_arr.shape}\")\n",
    "print(f\"Dimentions: {np_arr.ndim}\")\n",
    "print(f\"Size: {np_arr.size}\")\n"
   ],
   "metadata": {
    "collapsed": false
   }
  },
  {
   "cell_type": "code",
   "execution_count": 185,
   "outputs": [],
   "source": [
    "arr = np.random.randint(0, 10, (10, 10))"
   ],
   "metadata": {
    "collapsed": false
   }
  },
  {
   "cell_type": "code",
   "execution_count": 186,
   "outputs": [
    {
     "name": "stdout",
     "output_type": "stream",
     "text": [
      "[[6 2 0 7 3 8 5 8 5 9]\n",
      " [6 4 6 7 0 8 3 7 0 6]\n",
      " [1 4 9 1 6 5 4 6 0 3]\n",
      " [0 9 9 4 4 7 0 5 1 6]\n",
      " [6 2 3 5 6 2 7 7 2 9]\n",
      " [5 8 7 1 7 2 1 2 3 6]\n",
      " [8 3 0 5 9 8 3 1 5 4]\n",
      " [8 7 2 2 9 9 4 5 8 1]\n",
      " [7 9 6 9 5 0 4 0 0 5]\n",
      " [5 7 8 7 5 9 2 4 8 6]]\n",
      "[[0 5]\n",
      " [6 0]\n",
      " [9 0]\n",
      " [9 1]\n",
      " [3 2]\n",
      " [7 3]\n",
      " [0 5]\n",
      " [2 8]\n",
      " [6 0]\n",
      " [8 8]]\n"
     ]
    }
   ],
   "source": [
    "print(arr)\n",
    "print(arr[:, [2,8]])"
   ],
   "metadata": {
    "collapsed": false
   }
  },
  {
   "cell_type": "markdown",
   "source": [
    "## 2\n",
    "If some outliers are introduced to the dataset, what will happen to the Standard Deviation? Will it increase, decrease or remain the same?\n",
    "A: it will increase"
   ],
   "metadata": {
    "collapsed": false
   }
  },
  {
   "cell_type": "markdown",
   "source": [
    "## 3 (no numpy)\n",
    "Suppose the below positively skewed distribution has a median of 30, which of the following statement is true?\n",
    "\n",
    "A) Mean is greater than 30 - T\n",
    "B) Mean is less than 30 - F\n",
    "C) Mode is greater than 30 - F\n",
    "D) Mode is less than 30 - T\n",
    "E) Both A and D - T\n",
    "F) Both B and C - F\n",
    "![](https://caberlin-lms-v3.herokuapp.com/assets/data/Module-1/Project-1/stat-2.jpg)"
   ],
   "metadata": {
    "collapsed": false
   }
  },
  {
   "cell_type": "markdown",
   "source": [
    "## 4\n",
    "Which value can be the possible value for the median of the below distribution?\n",
    "![](https://caberlin-lms-v3.herokuapp.com/assets/data/Module-1/Project-1/stat-3.jpg)\n",
    "\n",
    "Assume the data are distributed as follows:\n",
    "``[10, 10, 10, 10, 11, 11, 12, 13, 14 ]\n",
    "[15, 15, 15, 16, 16, 16, 16, 16, 17, 18, 19, 19]\n",
    "[20, 20, 20, 21, 21, 21, 21, 21, 22, 22, 22, 23, 23, 23, 24, 24, 24]\n",
    "[26, 26, 26, 26, 26, 26, 26, 27, 27, 27, 27, 29, 29, 29, 29, 29, 29, 29, 29, 29]\n",
    "[30, 30, 30, 30, 30, 31, 31, 32, 32, 33, 33, 34, 34]\n",
    "[35, 35, 35, 37, 37, 37, 37, 39, 39, 39]\n",
    "[40, 40, 43, 43, 44, 44]\n",
    "[46, 46, 46, 47, 49]\n",
    "[52, 53, 54]"
   ],
   "metadata": {
    "collapsed": false
   }
  },
  {
   "cell_type": "code",
   "execution_count": 187,
   "outputs": [
    {
     "name": "stdout",
     "output_type": "stream",
     "text": [
      "Mean value is 27.88421052631579\n"
     ]
    }
   ],
   "source": [
    "data_dist = [\n",
    "    [10, 10, 10, 10, 11, 11, 12, 13, 14 ],\n",
    "    [15, 15, 15, 16, 16, 16, 16, 16, 17, 18, 19, 19],\n",
    "    [20, 20, 20, 21, 21, 21, 21, 21, 22, 22, 22, 23, 23, 23, 24, 24, 24],\n",
    "    [26, 26, 26, 26, 26, 26, 26, 27, 27, 27, 27, 29, 29, 29, 29, 29, 29, 29, 29, 29],\n",
    "    [30, 30, 30, 30, 30, 31, 31, 32, 32, 33, 33, 34, 34],\n",
    "    [35, 35, 35, 37, 37, 37, 37, 39, 39, 39],\n",
    "    [40, 40, 43, 43, 44, 44],\n",
    "    [46, 46, 46, 47, 49],\n",
    "    [52, 53, 54],\n",
    "]\n",
    "a = np.array([])\n",
    "for el in data_dist:\n",
    "    a = np.concatenate((a, np.array(el)))\n",
    "print(\"Mean value is\", a.mean())\n"
   ],
   "metadata": {
    "collapsed": false
   }
  },
  {
   "cell_type": "markdown",
   "source": [
    "## 5,6,7\n",
    "![](https://caberlin-lms-v3.herokuapp.com/assets/data/Module-1/Project-1/stat-4.jpg)\n",
    "What is the shape of the distribution? (no Numpy)\n",
    "A: positively skewed\n",
    "\n",
    "What would you consider to be the most appropriate measure of the center for this data?\n",
    "A: median\n",
    "\n",
    "If Y axis represents the number of individuals and X axis – salary of the individual in thousands. How many individuals have salary less than 10 thousands? (no Numpy)\n",
    "A: 24 + 12 = 36"
   ],
   "metadata": {
    "collapsed": false
   }
  },
  {
   "cell_type": "markdown",
   "source": [
    "We have a set of positive numbers. If a single value of the set is altered what must change?\n",
    "\n",
    "A) Mean\n",
    "B) Median\n",
    "C) Mode\n",
    "D) All of these\n",
    "A: D, but sometimes Mode is not altered\n",
    "\n",
    "Hint: try to create a Numpy array and calculate mean median and mode, then alter it and see what changes"
   ],
   "metadata": {
    "collapsed": false
   }
  },
  {
   "cell_type": "code",
   "execution_count": 188,
   "outputs": [
    {
     "name": "stdout",
     "output_type": "stream",
     "text": [
      "Mean:  41.65\n",
      "Median:  38.5\n"
     ]
    }
   ],
   "source": [
    "# from scipy import stats as st\n",
    "\n",
    "a = np.array([71, 37,  2, 40, 15,  4, 86, 85, 30,  1, 96,  3, 64, 26,  5, 60, 63,\n",
    "       85, 47, 13])\n",
    "print(\"Mean: \", a.mean())\n",
    "print(\"Median: \", np.median(a))\n",
    "# print(\"Mode: \", st.mode(a))"
   ],
   "metadata": {
    "collapsed": false
   }
  },
  {
   "cell_type": "markdown",
   "source": [
    "## 9\n",
    "The chart shows hourly consultancy rate of 10 people.\n",
    "\n",
    "Calculate the standard deviation of the salaries of the 10 employees.\n",
    "\n",
    "![](https://caberlin-lms-v3.herokuapp.com/assets/data/Module-1/Project-1/stat-5.jpg)"
   ],
   "metadata": {
    "collapsed": false
   }
  },
  {
   "cell_type": "code",
   "execution_count": 189,
   "outputs": [
    {
     "name": "stdout",
     "output_type": "stream",
     "text": [
      "STD is 10.44030650891055\n"
     ]
    }
   ],
   "source": [
    "a = np.array([25, 25, 25, 40, 40, 35, 50, 50, 50, 50])\n",
    "print(\"STD is\", a.std())"
   ],
   "metadata": {
    "collapsed": false
   }
  },
  {
   "cell_type": "markdown",
   "source": [
    "## 10 (no Numpy)\n",
    "Which of the following random variables is discrete?\n",
    "\n",
    "A) the length of time a battery lasts\n",
    "B) the number of pens purchased by a student in a year\n",
    "C) the percentage of cows in a cattle firm that have been vaccinated\n",
    "D) the distance between a pair of towns\n",
    "- B"
   ],
   "metadata": {
    "collapsed": false
   }
  },
  {
   "cell_type": "markdown",
   "source": [
    "## 11 (no numpy)\n",
    "Which of the below normal distributions will have the greatest spread?\n",
    "\n",
    "A) mu=5, sigma =1.5\n",
    "B) mu=10, sigma =1.0\n",
    "C) mu=5, sigma =1.65 <------\n",
    "D) mu=8, sigma =1.2\n",
    "E) mu=10, sigma =1.6"
   ],
   "metadata": {
    "collapsed": false
   }
  }
 ],
 "metadata": {
  "kernelspec": {
   "display_name": "Python 3",
   "language": "python",
   "name": "python3"
  },
  "language_info": {
   "codemirror_mode": {
    "name": "ipython",
    "version": 2
   },
   "file_extension": ".py",
   "mimetype": "text/x-python",
   "name": "python",
   "nbconvert_exporter": "python",
   "pygments_lexer": "ipython2",
   "version": "2.7.6"
  }
 },
 "nbformat": 4,
 "nbformat_minor": 0
}
