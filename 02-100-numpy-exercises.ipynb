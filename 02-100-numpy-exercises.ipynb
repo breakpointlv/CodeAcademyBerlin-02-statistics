{
 "cells": [
  {
   "cell_type": "markdown",
   "source": [
    "https://raw.githubusercontent.com/rougier/numpy-100/master/100_Numpy_exercises.md"
   ],
   "metadata": {
    "collapsed": false
   }
  },
  {
   "cell_type": "code",
   "execution_count": 56,
   "outputs": [],
   "source": [
    "#### 1. Import the numpy package under the name `np`\n",
    "import numpy as np"
   ],
   "metadata": {
    "collapsed": false
   }
  },
  {
   "cell_type": "code",
   "execution_count": 57,
   "outputs": [
    {
     "name": "stdout",
     "output_type": "stream",
     "text": [
      "<module 'numpy.version' from '/home/user/anaconda3/envs/env310/lib/python3.10/site-packages/numpy/version.py'>\n",
      "openblas64__info:\n",
      "    libraries = ['openblas64_', 'openblas64_']\n",
      "    library_dirs = ['/usr/local/lib']\n",
      "    language = c\n",
      "    define_macros = [('HAVE_CBLAS', None), ('BLAS_SYMBOL_SUFFIX', '64_'), ('HAVE_BLAS_ILP64', None)]\n",
      "    runtime_library_dirs = ['/usr/local/lib']\n",
      "blas_ilp64_opt_info:\n",
      "    libraries = ['openblas64_', 'openblas64_']\n",
      "    library_dirs = ['/usr/local/lib']\n",
      "    language = c\n",
      "    define_macros = [('HAVE_CBLAS', None), ('BLAS_SYMBOL_SUFFIX', '64_'), ('HAVE_BLAS_ILP64', None)]\n",
      "    runtime_library_dirs = ['/usr/local/lib']\n",
      "openblas64__lapack_info:\n",
      "    libraries = ['openblas64_', 'openblas64_']\n",
      "    library_dirs = ['/usr/local/lib']\n",
      "    language = c\n",
      "    define_macros = [('HAVE_CBLAS', None), ('BLAS_SYMBOL_SUFFIX', '64_'), ('HAVE_BLAS_ILP64', None), ('HAVE_LAPACKE', None)]\n",
      "    runtime_library_dirs = ['/usr/local/lib']\n",
      "lapack_ilp64_opt_info:\n",
      "    libraries = ['openblas64_', 'openblas64_']\n",
      "    library_dirs = ['/usr/local/lib']\n",
      "    language = c\n",
      "    define_macros = [('HAVE_CBLAS', None), ('BLAS_SYMBOL_SUFFIX', '64_'), ('HAVE_BLAS_ILP64', None), ('HAVE_LAPACKE', None)]\n",
      "    runtime_library_dirs = ['/usr/local/lib']\n",
      "Supported SIMD extensions in this NumPy install:\n",
      "    baseline = SSE,SSE2,SSE3\n",
      "    found = SSSE3,SSE41,POPCNT,SSE42,AVX,F16C,FMA3,AVX2\n",
      "    not found = AVX512F,AVX512CD,AVX512_KNL,AVX512_KNM,AVX512_SKX,AVX512_CLX,AVX512_CNL,AVX512_ICL\n"
     ]
    }
   ],
   "source": [
    "#### 2. Print the numpy version and the configuration\n",
    "print(np.version)\n",
    "np.show_config()"
   ],
   "metadata": {
    "collapsed": false
   }
  },
  {
   "cell_type": "code",
   "execution_count": 58,
   "outputs": [
    {
     "name": "stdout",
     "output_type": "stream",
     "text": [
      "[0. 0. 0. 0. 0. 0. 0. 0. 0. 0.]\n"
     ]
    }
   ],
   "source": [
    "#### 3. Create a null vector of size 10\n",
    "null_vestor_10 = np.zeros(10)\n",
    "print(null_vestor_10)"
   ],
   "metadata": {
    "collapsed": false
   }
  },
  {
   "cell_type": "code",
   "execution_count": 59,
   "outputs": [
    {
     "name": "stdout",
     "output_type": "stream",
     "text": [
      "80 bytes\n"
     ]
    }
   ],
   "source": [
    "#### 4. How to find the memory size of any array\n",
    "print(null_vestor_10.nbytes, \"bytes\")"
   ],
   "metadata": {
    "collapsed": false
   }
  },
  {
   "cell_type": "code",
   "execution_count": 60,
   "outputs": [],
   "source": [
    "#### 5. How to get the documentation of the numpy add function from the command line?\n",
    "# help np.add"
   ],
   "metadata": {
    "collapsed": false
   }
  },
  {
   "cell_type": "code",
   "execution_count": 61,
   "outputs": [
    {
     "name": "stdout",
     "output_type": "stream",
     "text": [
      "[0. 0. 0. 0. 1. 0. 0. 0. 0. 0.]\n"
     ]
    }
   ],
   "source": [
    "#### 6. Create a null vector of size 10 but the fifth value which is 1\n",
    "a6 = np.zeros(10)\n",
    "a6[4] = 1\n",
    "print(a6)"
   ],
   "metadata": {
    "collapsed": false
   }
  },
  {
   "cell_type": "code",
   "execution_count": 62,
   "outputs": [
    {
     "name": "stdout",
     "output_type": "stream",
     "text": [
      "[10 11 12 13 14 15 16 17 18 19 20 21 22 23 24 25 26 27 28 29 30 31 32 33\n",
      " 34 35 36 37 38 39 40 41 42 43 44 45 46 47 48 49]\n"
     ]
    }
   ],
   "source": [
    "#### 7. Create a vector with values ranging from 10 to 49\n",
    "a7 = np.arange(10, 50)\n",
    "print(a7)"
   ],
   "metadata": {
    "collapsed": false
   }
  },
  {
   "cell_type": "code",
   "execution_count": 63,
   "outputs": [
    {
     "name": "stdout",
     "output_type": "stream",
     "text": [
      "[49 48 47 46 45 44 43 42 41 40 39 38 37 36 35 34 33 32 31 30 29 28 27 26\n",
      " 25 24 23 22 21 20 19 18 17 16 15 14 13 12 11 10]\n"
     ]
    }
   ],
   "source": [
    "#### 8. Reverse a vector (first element becomes last)\n",
    "a7_flipped = np.flip(a7)\n",
    "print(a7_flipped)"
   ],
   "metadata": {
    "collapsed": false
   }
  },
  {
   "cell_type": "code",
   "execution_count": 64,
   "outputs": [
    {
     "name": "stdout",
     "output_type": "stream",
     "text": [
      "[[0 1 2]\n",
      " [3 4 5]\n",
      " [6 7 8]]\n"
     ]
    }
   ],
   "source": [
    "#### 9. Create a 3x3 matrix with values ranging from 0 to 8\n",
    "a9 = np.arange(9).reshape(3, 3)\n",
    "print(a9)"
   ],
   "metadata": {
    "collapsed": false
   }
  },
  {
   "cell_type": "code",
   "execution_count": 65,
   "outputs": [
    {
     "name": "stdout",
     "output_type": "stream",
     "text": [
      "(array([2, 3, 5]),)\n"
     ]
    }
   ],
   "source": [
    "#### 10. Find indices of non-zero elements from [1,2,0,0,4,0]\n",
    "a10 = np.array([1,2,0,0,4,0])\n",
    "print(np.where(a10 == 0))"
   ],
   "metadata": {
    "collapsed": false
   }
  },
  {
   "cell_type": "code",
   "execution_count": 66,
   "outputs": [
    {
     "name": "stdout",
     "output_type": "stream",
     "text": [
      "[[1. 0. 0.]\n",
      " [0. 1. 0.]\n",
      " [0. 0. 1.]]\n"
     ]
    }
   ],
   "source": [
    "#### 11. Create a 3x3 identity matrix\n",
    "a11 = np.eye(3)\n",
    "print(a11)"
   ],
   "metadata": {
    "collapsed": false
   }
  },
  {
   "cell_type": "code",
   "execution_count": 67,
   "outputs": [
    {
     "name": "stdout",
     "output_type": "stream",
     "text": [
      "[[44 47 64]\n",
      " [67 67  9]\n",
      " [83 21 36]]\n"
     ]
    }
   ],
   "source": [
    "#### 12. Create a 3x3x3 array with random values\n",
    "np.random.seed(0)\n",
    "a12 = np.random.randint(100, size=(3,3))\n",
    "print(a12)"
   ],
   "metadata": {
    "collapsed": false
   }
  },
  {
   "cell_type": "code",
   "execution_count": 68,
   "outputs": [
    {
     "name": "stdout",
     "output_type": "stream",
     "text": [
      "[[87 70 88 88 12 58 65 39 87 46]\n",
      " [88 81 37 25 77 72  9 20 80 69]\n",
      " [79 47 64 82 99 88 49 29 19 19]\n",
      " [14 39 32 65  9 57 32 31 74 23]\n",
      " [35 75 55 28 34  0  0 36 53  5]\n",
      " [38 17 79  4 42 58 31  1 65 41]\n",
      " [57 35 11 46 82 91  0 14 99 53]\n",
      " [12 42 84 75 68  6 68 47  3 76]\n",
      " [52 78 15 20 99 58 23 79 13 85]\n",
      " [48 49 69 41 35 64 95 69 94  0]]\n",
      "max 99\n",
      "min 0\n"
     ]
    }
   ],
   "source": [
    "#### 13. Create a 10x10 array with random values and find the minimum and maximum values\n",
    "a13 = np.random.randint(100, size=(10,10))\n",
    "print(a13)\n",
    "print('max', np.max(a13))\n",
    "print('min', np.min(a13))"
   ],
   "metadata": {
    "collapsed": false
   }
  },
  {
   "cell_type": "code",
   "execution_count": 69,
   "outputs": [
    {
     "name": "stdout",
     "output_type": "stream",
     "text": [
      "[50 36 34 48 93  3 98 42 77 21 73  0 10 43 58 23 59  2 98 62 35 94 67 82\n",
      " 46 99 20 81 50 27]\n",
      "mean 51.03333333333333\n"
     ]
    }
   ],
   "source": [
    "#### 14. Create a random vector of size 30 and find the mean value\n",
    "a14 = np.random.randint(100, size=30)\n",
    "print(a14)\n",
    "print(\"mean\", a14.mean())"
   ],
   "metadata": {
    "collapsed": false
   }
  },
  {
   "cell_type": "code",
   "execution_count": 70,
   "outputs": [
    {
     "name": "stdout",
     "output_type": "stream",
     "text": [
      "[[1. 1. 1. 1. 1. 1. 1. 1. 1. 1.]\n",
      " [1. 0. 0. 0. 0. 0. 0. 0. 0. 1.]\n",
      " [1. 0. 0. 0. 0. 0. 0. 0. 0. 1.]\n",
      " [1. 0. 0. 0. 0. 0. 0. 0. 0. 1.]\n",
      " [1. 0. 0. 0. 0. 0. 0. 0. 0. 1.]\n",
      " [1. 0. 0. 0. 0. 0. 0. 0. 0. 1.]\n",
      " [1. 0. 0. 0. 0. 0. 0. 0. 0. 1.]\n",
      " [1. 0. 0. 0. 0. 0. 0. 0. 0. 1.]\n",
      " [1. 0. 0. 0. 0. 0. 0. 0. 0. 1.]\n",
      " [1. 1. 1. 1. 1. 1. 1. 1. 1. 1.]]\n"
     ]
    }
   ],
   "source": [
    "#### 15. Create a 2d array with 1 on the border and 0 inside\n",
    "a15 = np.zeros((10,10))\n",
    "a15[0] = 1\n",
    "a15[-1] = 1\n",
    "a15[:,0] = 1\n",
    "a15[:,-1] = 1\n",
    "print(a15)"
   ],
   "metadata": {
    "collapsed": false
   }
  },
  {
   "cell_type": "code",
   "execution_count": 71,
   "outputs": [
    {
     "name": "stdout",
     "output_type": "stream",
     "text": [
      "[[0. 0. 0. 0. 0. 0. 0. 0. 0. 0. 0. 0.]\n",
      " [0. 1. 1. 1. 1. 1. 1. 1. 1. 1. 1. 0.]\n",
      " [0. 1. 0. 0. 0. 0. 0. 0. 0. 0. 1. 0.]\n",
      " [0. 1. 0. 0. 0. 0. 0. 0. 0. 0. 1. 0.]\n",
      " [0. 1. 0. 0. 0. 0. 0. 0. 0. 0. 1. 0.]\n",
      " [0. 1. 0. 0. 0. 0. 0. 0. 0. 0. 1. 0.]\n",
      " [0. 1. 0. 0. 0. 0. 0. 0. 0. 0. 1. 0.]\n",
      " [0. 1. 0. 0. 0. 0. 0. 0. 0. 0. 1. 0.]\n",
      " [0. 1. 0. 0. 0. 0. 0. 0. 0. 0. 1. 0.]\n",
      " [0. 1. 0. 0. 0. 0. 0. 0. 0. 0. 1. 0.]\n",
      " [0. 1. 1. 1. 1. 1. 1. 1. 1. 1. 1. 0.]\n",
      " [0. 0. 0. 0. 0. 0. 0. 0. 0. 0. 0. 0.]]\n"
     ]
    }
   ],
   "source": [
    "#### 16. How to add a border (filled with 0's) around an existing array?\n",
    "hborder = np.zeros(10)\n",
    "vborder = np.zeros(12).reshape(12, 1)\n",
    "a15 = np.vstack([hborder, a15, hborder])\n",
    "a15 = np.hstack([vborder, a15, vborder])\n",
    "print(a15)"
   ],
   "metadata": {
    "collapsed": false
   }
  },
  {
   "cell_type": "code",
   "execution_count": 72,
   "outputs": [
    {
     "name": "stdout",
     "output_type": "stream",
     "text": [
      "nan\n",
      "False\n",
      "False\n",
      "nan\n",
      "True\n",
      "False\n"
     ]
    }
   ],
   "source": [
    "#### 17. What is the result of the following expression? (★☆☆)\n",
    "print(0 * np.nan)\n",
    "print(np.nan == np.nan)\n",
    "print(np.inf > np.nan)\n",
    "print(np.nan - np.nan)\n",
    "print(np.nan in set([np.nan]))\n",
    "print(0.3 == 3 * 0.1)"
   ],
   "metadata": {
    "collapsed": false
   }
  },
  {
   "cell_type": "code",
   "execution_count": 73,
   "outputs": [
    {
     "name": "stdout",
     "output_type": "stream",
     "text": [
      "[[0. 0. 0. 0. 0.]\n",
      " [1. 0. 0. 0. 0.]\n",
      " [0. 2. 0. 0. 0.]\n",
      " [0. 0. 3. 0. 0.]\n",
      " [0. 0. 0. 4. 0.]]\n"
     ]
    }
   ],
   "source": [
    "#### 18. Create a 5x5 matrix with values 1,2,3,4 just below the diagonal\n",
    "size = 5\n",
    "a18 = np.zeros((size,size))\n",
    "\n",
    "for i in range(1, size):\n",
    "    a18[i, i-1] = i\n",
    "\n",
    "print(a18)"
   ],
   "metadata": {
    "collapsed": false
   }
  },
  {
   "cell_type": "code",
   "execution_count": 74,
   "outputs": [
    {
     "name": "stdout",
     "output_type": "stream",
     "text": [
      "[[1. 0. 1. 0. 1. 0. 1. 0.]\n",
      " [0. 1. 0. 1. 0. 1. 0. 1.]\n",
      " [1. 0. 1. 0. 1. 0. 1. 0.]\n",
      " [0. 1. 0. 1. 0. 1. 0. 1.]\n",
      " [1. 0. 1. 0. 1. 0. 1. 0.]\n",
      " [0. 1. 0. 1. 0. 1. 0. 1.]\n",
      " [1. 0. 1. 0. 1. 0. 1. 0.]\n",
      " [0. 1. 0. 1. 0. 1. 0. 1.]]\n"
     ]
    }
   ],
   "source": [
    "#### 19. Create a 8x8 matrix and fill it with a checkerboard pattern\n",
    "size = 8\n",
    "a18 = np.zeros((size,size))\n",
    "a18[::2,::2] = 1\n",
    "a18[1::2,1::2] = 1\n",
    "print(a18)"
   ],
   "metadata": {
    "collapsed": false
   }
  },
  {
   "cell_type": "code",
   "execution_count": 75,
   "outputs": [
    {
     "name": "stdout",
     "output_type": "stream",
     "text": [
      "[[[14 41 58 65 36 10 86 43]\n",
      "  [11  2 51 80 32 54  0 38]\n",
      "  [19 46 42 56 60 77 30 24]\n",
      "  [ 2  3 94 98 13 40 72 19]\n",
      "  [95 72 26 66 52 67 61 14]\n",
      "  [96  4 67 11 86 77 75 56]\n",
      "  [16 24 29 21 25 80 60 61]]\n",
      "\n",
      " [[83 33 32 70 85 31 13 71]\n",
      "  [56 24 79 41 18 40 54 79]\n",
      "  [11 38 93  1 95 44 88 24]\n",
      "  [67 82  3 76 35 86 61 69]\n",
      "  [87 43 32 11 84 10 54 37]\n",
      "  [28  2 27 83 89 23 53 51]\n",
      "  [46 20 53 29 67 35 39  9]]\n",
      "\n",
      " [[73 41 23  3 46 90 50  3]\n",
      "  [31  9 10 27 45 71 39 61]\n",
      "  [85 97 44 34 34 88 33  5]\n",
      "  [36  0 75 34 69 53 80 62]\n",
      "  [ 8 61  1 81 35 91 40 36]\n",
      "  [48 25 67 35 30 29 33 18]\n",
      "  [17 93 84  2 69 12 44 66]]\n",
      "\n",
      " [[91 85 39 39 75 22 30 17]\n",
      "  [70 71 18 92 43 83 49 41]\n",
      "  [93 46 21 73 89 96 91 73]\n",
      "  [28 81 58  0 86 63 16 36]\n",
      "  [94 24 63 67 51  8 56 91]\n",
      "  [93 87 32 19 72 71 87 13]\n",
      "  [58 81 55 64 75 92 36 25]]\n",
      "\n",
      " [[32 42 14 86 28 20 82 68]\n",
      "  [22 99 83  7 72 61 13  5]\n",
      "  [ 0  8 79 79 53 11  4 39]\n",
      "  [92 45 26 74 52 49 91 51]\n",
      "  [99 18 34 51 30 53 58 43]\n",
      "  [55 18 45 87 65 70 53 48]\n",
      "  [94 59 80 26 35 58 49 73]]\n",
      "\n",
      " [[44 13 70 38 39  8 13  7]\n",
      "  [80 22 79 89  8 99  6 81]\n",
      "  [71 84 89 66 60 16 56 23]\n",
      "  [24  4 49 87 30 54 25 20]\n",
      "  [97 57 23 27 29 33 53 51]\n",
      "  [86  7  9 54  0 83 36 81]\n",
      "  [20  3 42 65 20 36 68 80]]]\n",
      "(4, 2, 2)\n"
     ]
    }
   ],
   "source": [
    "#### 20. Consider a (6,7,8) shape array, what is the index (x,y,z) of the 100th element?\n",
    "import math\n",
    "\n",
    "def get_coords(sx, sy, sz, el_num):\n",
    "    el_cnt_in_z = sx * sy\n",
    "    z = el_num // el_cnt_in_z\n",
    "    y = (el_num % el_cnt_in_z) // sx\n",
    "    x = el_num - y * sx * sz\n",
    "    return (x, y, z)\n",
    "\n",
    "sx = 6\n",
    "sy = 7\n",
    "sz = 8\n",
    "el_num = 100\n",
    "a20 = np.random.randint(100, size=(sx,sy,sz))\n",
    "\n",
    "print(a20)\n",
    "print(get_coords(sx, sy, sz, el_num))\n",
    "\n"
   ],
   "metadata": {
    "collapsed": false
   }
  },
  {
   "cell_type": "code",
   "execution_count": 76,
   "outputs": [
    {
     "name": "stdout",
     "output_type": "stream",
     "text": [
      "[[1 0 1 0 1 0 1 0 1 0 1 0 1 0 1 0]\n",
      " [0 1 0 1 0 1 0 1 0 1 0 1 0 1 0 1]\n",
      " [1 0 1 0 1 0 1 0 1 0 1 0 1 0 1 0]\n",
      " [0 1 0 1 0 1 0 1 0 1 0 1 0 1 0 1]\n",
      " [1 0 1 0 1 0 1 0 1 0 1 0 1 0 1 0]\n",
      " [0 1 0 1 0 1 0 1 0 1 0 1 0 1 0 1]\n",
      " [1 0 1 0 1 0 1 0 1 0 1 0 1 0 1 0]\n",
      " [0 1 0 1 0 1 0 1 0 1 0 1 0 1 0 1]\n",
      " [1 0 1 0 1 0 1 0 1 0 1 0 1 0 1 0]\n",
      " [0 1 0 1 0 1 0 1 0 1 0 1 0 1 0 1]\n",
      " [1 0 1 0 1 0 1 0 1 0 1 0 1 0 1 0]\n",
      " [0 1 0 1 0 1 0 1 0 1 0 1 0 1 0 1]\n",
      " [1 0 1 0 1 0 1 0 1 0 1 0 1 0 1 0]\n",
      " [0 1 0 1 0 1 0 1 0 1 0 1 0 1 0 1]\n",
      " [1 0 1 0 1 0 1 0 1 0 1 0 1 0 1 0]\n",
      " [0 1 0 1 0 1 0 1 0 1 0 1 0 1 0 1]]\n"
     ]
    }
   ],
   "source": [
    "#### 21. Create a checkerboard 8x8 matrix using the tile function\n",
    "a21 = np.array([[1,0], [0,1]])\n",
    "print(np.tile(a21, (8,8)))"
   ],
   "metadata": {
    "collapsed": false
   }
  },
  {
   "cell_type": "code",
   "execution_count": 77,
   "outputs": [
    {
     "name": "stdout",
     "output_type": "stream",
     "text": [
      "295.8665239597072\n"
     ]
    }
   ],
   "source": [
    "#### 22. Normalize a 5x5 random matrix\n",
    "a22 = np.random.randint(100, size=(5,5))\n",
    "print(np.linalg.norm(a22))"
   ],
   "metadata": {
    "collapsed": false
   }
  },
  {
   "cell_type": "code",
   "execution_count": 78,
   "outputs": [
    {
     "name": "stdout",
     "output_type": "stream",
     "text": [
      "4\n"
     ]
    }
   ],
   "source": [
    "#### 23. Create a custom dtype that describes a color as four unsigned bytes (RGBA)\n",
    "rgb_dt = np.dtype('>i4')\n",
    "print(rgb_dt.itemsize)"
   ],
   "metadata": {
    "collapsed": false
   }
  },
  {
   "cell_type": "code",
   "execution_count": 79,
   "outputs": [
    {
     "name": "stdout",
     "output_type": "stream",
     "text": [
      "[[39 24 58]\n",
      " [36 99 69]\n",
      " [ 6  3 98]\n",
      " [40 60 33]\n",
      " [28 68 26]]\n",
      "[[96 51]\n",
      " [73 53]\n",
      " [69 33]]\n",
      "[[ 9498  5175]\n",
      " [15444  9360]\n",
      " [ 7557  3699]\n",
      " [10497  6309]\n",
      " [ 9446  5890]]\n"
     ]
    }
   ],
   "source": [
    "#### 24. Multiply a 5x3 matrix by a 3x2 matrix (real matrix product)\n",
    "a24_1 = np.random.randint(100, size=(5,3))\n",
    "a24_2 = np.random.randint(100, size=(3,2))\n",
    "print(a24_1)\n",
    "print(a24_2)\n",
    "print(np.matmul(a24_1, a24_2))"
   ],
   "metadata": {
    "collapsed": false
   }
  },
  {
   "cell_type": "code",
   "execution_count": 80,
   "outputs": [
    {
     "name": "stdout",
     "output_type": "stream",
     "text": [
      "[ 7 94 72 84  7 67 85 91 67 84 71 83 95  0  5 91 30 73 83  7 21 92  8 43\n",
      " 46  0 51 38 89 74 98 87 96 83 26 78 32 70 97 44 59 57 50 45  4 57 93 91\n",
      " 17 35]\n",
      "[-7 94 72 84 -7 67 85 91 67 84 71 83 95  0 -5 91 30 73 83 -7 21 92 -8 43\n",
      " 46  0 51 38 89 74 98 87 96 83 26 78 32 70 97 44 59 57 50 45 -4 57 93 91\n",
      " 17 35]\n"
     ]
    }
   ],
   "source": [
    "#### 25. Given a 1D array, negate all elements which are between 3 and 8, in place\n",
    "a25 = np.random.randint(100, size=50)\n",
    "\n",
    "def negt(x):\n",
    "    if x >=3 and x <= 8:\n",
    "        return -x\n",
    "    else:\n",
    "        return x\n",
    "\n",
    "np_neg = np.vectorize(negt)\n",
    "\n",
    "print(a25)\n",
    "print(np_neg(a25))"
   ],
   "metadata": {
    "collapsed": false
   }
  },
  {
   "cell_type": "code",
   "execution_count": 81,
   "outputs": [
    {
     "name": "stdout",
     "output_type": "stream",
     "text": [
      "9\n",
      "10\n"
     ]
    }
   ],
   "source": [
    "#### 26. What is the output of the following script?\n",
    "print(sum(range(5),-1))\n",
    "print(np.sum(range(5),-1))"
   ],
   "metadata": {
    "collapsed": false
   }
  },
  {
   "cell_type": "code",
   "execution_count": 82,
   "outputs": [
    {
     "name": "stdout",
     "output_type": "stream",
     "text": [
      "[  1   1   4  27 256]\n",
      "[0 1 2 4 8]\n",
      "[False False False False False]\n",
      "[0.+0.j 0.+1.j 0.+2.j 0.+3.j 0.+4.j]\n",
      "[0. 1. 2. 3. 4.]\n"
     ]
    }
   ],
   "source": [
    "#### 27. Consider an integer vector Z, which of these expressions are legal? (★☆☆)\n",
    "Z = np.arange(5)\n",
    "print(Z**Z)\n",
    "print(2 << Z >> 2)\n",
    "print(Z <- Z)\n",
    "print(1j*Z)\n",
    "print(Z/1/1)\n",
    "# Z<Z>Z  -< illegal\n"
   ],
   "metadata": {
    "collapsed": false
   }
  },
  {
   "cell_type": "code",
   "execution_count": 83,
   "outputs": [
    {
     "name": "stdout",
     "output_type": "stream",
     "text": [
      "nan\n",
      "0\n",
      "[-9.22337204e+18]\n"
     ]
    },
    {
     "name": "stderr",
     "output_type": "stream",
     "text": [
      "/tmp/ipykernel_7179/1284412314.py:2: RuntimeWarning: invalid value encountered in divide\n",
      "  print(np.array(0) / np.array(0))\n",
      "/tmp/ipykernel_7179/1284412314.py:3: RuntimeWarning: divide by zero encountered in floor_divide\n",
      "  print(np.array(0) // np.array(0))\n",
      "/tmp/ipykernel_7179/1284412314.py:4: RuntimeWarning: invalid value encountered in cast\n",
      "  print(np.array([np.nan]).astype(int).astype(float))\n"
     ]
    }
   ],
   "source": [
    "#### 28. What are the result of the following expressions?\n",
    "print(np.array(0) / np.array(0))\n",
    "print(np.array(0) // np.array(0))\n",
    "print(np.array([np.nan]).astype(int).astype(float))"
   ],
   "metadata": {
    "collapsed": false
   }
  },
  {
   "cell_type": "code",
   "execution_count": 84,
   "outputs": [
    {
     "name": "stdout",
     "output_type": "stream",
     "text": [
      "[53.92235974 32.56847664 14.70138949 15.98700671 12.94123374 57.89223875\n",
      "  9.22601704 91.05447224  8.29717477 80.03784621]\n",
      "[54. 33. 15. 16. 13. 58. 10. 92.  9. 81.]\n"
     ]
    }
   ],
   "source": [
    "#### 29. How to round away from zero a float array ?\n",
    "a29 = np.random.random(10)\n",
    "a29 *= 100\n",
    "print(a29)\n",
    "print(np.ceil(a29))"
   ],
   "metadata": {
    "collapsed": false
   }
  },
  {
   "cell_type": "code",
   "execution_count": 85,
   "outputs": [
    {
     "name": "stdout",
     "output_type": "stream",
     "text": [
      "[7 6 6 2 3 6 0 8 0 7 6 5 9 6 5 2 7 1 9 2]\n",
      "[2 5 6 4 2 2 1 0 9 0 2 8 3 0 8 8 1 0 5 8]\n",
      "[0 1 2 3 5 6 8 9]\n"
     ]
    }
   ],
   "source": [
    "#### 30. How to find common values between two arrays?\n",
    "a30 = np.random.randint(10, size=20)\n",
    "b30 = np.random.randint(10, size=20)\n",
    "print(a30)\n",
    "print(b30)\n",
    "print(np.intersect1d(a30, b30))"
   ],
   "metadata": {
    "collapsed": false
   }
  },
  {
   "cell_type": "code",
   "execution_count": 86,
   "outputs": [],
   "source": [
    "#### 31. How to ignore all numpy warnings (not recommended)?\n",
    "# numpy.seterr(all='ignore')"
   ],
   "metadata": {
    "collapsed": false
   }
  },
  {
   "cell_type": "code",
   "execution_count": 87,
   "outputs": [
    {
     "name": "stderr",
     "output_type": "stream",
     "text": [
      "/tmp/ipykernel_7179/3472255086.py:2: RuntimeWarning: invalid value encountered in sqrt\n",
      "  np.sqrt(-1) == np.emath.sqrt(-1)\n"
     ]
    },
    {
     "data": {
      "text/plain": "False"
     },
     "execution_count": 87,
     "metadata": {},
     "output_type": "execute_result"
    }
   ],
   "source": [
    "#### 32. Is the following expressions true?\n",
    "np.sqrt(-1) == np.emath.sqrt(-1)"
   ],
   "metadata": {
    "collapsed": false
   }
  },
  {
   "cell_type": "code",
   "execution_count": 88,
   "outputs": [
    {
     "name": "stdout",
     "output_type": "stream",
     "text": [
      "2023-02-13\n",
      "2023-02-14\n",
      "2023-02-15\n"
     ]
    }
   ],
   "source": [
    "#### 33. How to get the dates of yesterday, today and tomorrow?\n",
    "today = np.datetime64('today', 'D')\n",
    "print(today - np.timedelta64(1, 'D'))\n",
    "print(today)\n",
    "print(today + np.timedelta64(1, 'D'))"
   ],
   "metadata": {
    "collapsed": false
   }
  },
  {
   "cell_type": "code",
   "execution_count": 89,
   "outputs": [
    {
     "name": "stdout",
     "output_type": "stream",
     "text": [
      "['2016-07-01' '2016-07-02' '2016-07-03' '2016-07-04' '2016-07-05'\n",
      " '2016-07-06' '2016-07-07' '2016-07-08' '2016-07-09' '2016-07-10'\n",
      " '2016-07-11' '2016-07-12' '2016-07-13' '2016-07-14' '2016-07-15'\n",
      " '2016-07-16' '2016-07-17' '2016-07-18' '2016-07-19' '2016-07-20'\n",
      " '2016-07-21' '2016-07-22' '2016-07-23' '2016-07-24' '2016-07-25'\n",
      " '2016-07-26' '2016-07-27' '2016-07-28' '2016-07-29' '2016-07-30'\n",
      " '2016-07-31']\n"
     ]
    }
   ],
   "source": [
    "#### 34. How to get all the dates corresponding to the month of July 2016?\n",
    "a34 = np.arange(np.datetime64(\"2016-07-01\"), np.datetime64(\"2016-08-01\"), np.timedelta64(1, \"D\"))\n",
    "print(a34)"
   ],
   "metadata": {
    "collapsed": false
   }
  },
  {
   "cell_type": "code",
   "execution_count": 90,
   "outputs": [
    {
     "name": "stdout",
     "output_type": "stream",
     "text": [
      "[2 3 5 3 8 6 4 6 3 6]\n",
      "[2 6 5 5 9 4 6 5 1 3]\n",
      "[ -4.  -13.5 -25.  -12.  -68.  -30.  -20.  -33.   -6.  -27. ]\n"
     ]
    }
   ],
   "source": [
    "#### 35. How to compute ((A+B)*(-A/2)) in place (without copy)? (★★☆)\n",
    "a35 = np.random.randint(10, size=10)\n",
    "b35 = np.random.randint(10, size=10)\n",
    "print(a35)\n",
    "print(b35)\n",
    "print((a35+b35)*(-a35/2))"
   ],
   "metadata": {
    "collapsed": false
   }
  },
  {
   "cell_type": "code",
   "execution_count": 91,
   "outputs": [
    {
     "name": "stdout",
     "output_type": "stream",
     "text": [
      "[[0 1 2 3 4]\n",
      " [0 1 2 3 4]\n",
      " [0 1 2 3 4]\n",
      " [0 1 2 3 4]\n",
      " [0 1 2 3 4]]\n"
     ]
    }
   ],
   "source": [
    "#### 37. Create a 5x5 matrix with row values ranging from 0 to 4 (★★☆)\n",
    "a21 = np.arange(0,5)\n",
    "print(np.tile(a21, (5,1)))"
   ],
   "metadata": {
    "collapsed": false
   }
  },
  {
   "cell_type": "code",
   "execution_count": 92,
   "outputs": [
    {
     "name": "stdout",
     "output_type": "stream",
     "text": [
      "[0 1 2 3 4 5 6 7 8 9]\n"
     ]
    }
   ],
   "source": [
    "#### 38. Consider a generator function that generates 10 integers and use it to build an array (★☆☆)\n",
    "def gen_ints(n):\n",
    "    for i in range(n):\n",
    "        yield i\n",
    "print(np.fromiter(gen_ints(10), int))\n",
    "\n"
   ],
   "metadata": {
    "collapsed": false
   }
  },
  {
   "cell_type": "code",
   "execution_count": 93,
   "outputs": [
    {
     "name": "stdout",
     "output_type": "stream",
     "text": [
      "[0.1154843  0.61848026 0.97425621 0.990345   0.4090541  0.16295443\n",
      " 0.63876176 0.49030535 0.98940978 0.06530421]\n"
     ]
    }
   ],
   "source": [
    "#### 39. Create a vector of size 10 with values ranging from 0 to 1, both excluded (★★☆)\n",
    "print(np.random.random(10))"
   ],
   "metadata": {
    "collapsed": false
   }
  },
  {
   "cell_type": "code",
   "execution_count": 94,
   "outputs": [
    {
     "name": "stdout",
     "output_type": "stream",
     "text": [
      "[0.24141862 0.24606318 0.28705152 0.2883985  0.42408899 0.51730852\n",
      " 0.55468781 0.66250457 0.66585912 0.78323444]\n"
     ]
    }
   ],
   "source": [
    "#### 40. Create a random vector of size 10 and sort it (★★☆)\n",
    "a40 = np.random.random(10)\n",
    "print(np.sort(a40))"
   ],
   "metadata": {
    "collapsed": false
   }
  },
  {
   "cell_type": "code",
   "execution_count": 95,
   "outputs": [
    {
     "name": "stdout",
     "output_type": "stream",
     "text": [
      "python sum 0.009625856999264215\n",
      "np sum on python list 0.09516812200126878\n",
      "np sum on python list 0.08602564399916446\n"
     ]
    }
   ],
   "source": [
    "#### 41. How to sum a small array faster than np.sum? (★★☆)\n",
    "import timeit\n",
    "a41 = range(100)\n",
    "n41 = np.array(a41)\n",
    "\n",
    "def py_sum():\n",
    "    return sum(a41)\n",
    "\n",
    "def np_sum_on_py_list():\n",
    "    return np.sum(a41)\n",
    "\n",
    "def np_sum_on_np_arr():\n",
    "    return np.sum(a41)\n",
    "\n",
    "print(\"python sum\", timeit.timeit(py_sum, number=10000))\n",
    "print(\"np sum on python list\", timeit.timeit(np_sum_on_py_list, number=10000))\n",
    "print(\"np sum on python list\", timeit.timeit(np_sum_on_np_arr, number=10000))\n"
   ],
   "metadata": {
    "collapsed": false
   }
  },
  {
   "cell_type": "code",
   "execution_count": 96,
   "outputs": [
    {
     "name": "stdout",
     "output_type": "stream",
     "text": [
      "[False False False False False]\n",
      "False\n"
     ]
    }
   ],
   "source": [
    "#### 42. Consider two random array A and B, check if they are equal (★★☆)\n",
    "a42 = np.random.randint(10, size=5)\n",
    "b42 = np.random.randint(10, size=5)\n",
    "print(a42 == b42)\n",
    "print(np.array_equal(a42, b42))"
   ],
   "metadata": {
    "collapsed": false
   }
  },
  {
   "cell_type": "code",
   "execution_count": 97,
   "outputs": [
    {
     "ename": "ValueError",
     "evalue": "assignment destination is read-only",
     "output_type": "error",
     "traceback": [
      "\u001B[0;31m---------------------------------------------------------------------------\u001B[0m",
      "\u001B[0;31mValueError\u001B[0m                                Traceback (most recent call last)",
      "Cell \u001B[0;32mIn[97], line 4\u001B[0m\n\u001B[1;32m      2\u001B[0m a43 \u001B[38;5;241m=\u001B[39m np\u001B[38;5;241m.\u001B[39mrandom\u001B[38;5;241m.\u001B[39mrandint(\u001B[38;5;241m10\u001B[39m, size\u001B[38;5;241m=\u001B[39m\u001B[38;5;241m5\u001B[39m)\n\u001B[1;32m      3\u001B[0m a43\u001B[38;5;241m.\u001B[39msetflags(write\u001B[38;5;241m=\u001B[39m\u001B[38;5;28;01mFalse\u001B[39;00m)\n\u001B[0;32m----> 4\u001B[0m a43[\u001B[38;5;241m0\u001B[39m] \u001B[38;5;241m=\u001B[39m \u001B[38;5;241m1\u001B[39m\n",
      "\u001B[0;31mValueError\u001B[0m: assignment destination is read-only"
     ]
    }
   ],
   "source": [
    "#### 43. Make an array immutable (read-only) (★★☆)\n",
    "a43 = np.random.randint(10, size=5)\n",
    "a43.setflags(write=False)\n",
    "a43[0] = 1"
   ],
   "metadata": {
    "collapsed": false
   }
  },
  {
   "cell_type": "code",
   "execution_count": 118,
   "outputs": [
    {
     "name": "stdout",
     "output_type": "stream",
     "text": [
      "cartesian coordinates\n",
      " [[ 7 29]\n",
      " [78 11]\n",
      " [73 11]\n",
      " [16 60]\n",
      " [63 59]\n",
      " [ 1 18]\n",
      " [53 28]\n",
      " [64 85]\n",
      " [88 73]\n",
      " [ 8 82]]\n",
      "\n",
      "polar coordinates\n",
      " [[ 29.83286778  76.42956561]\n",
      " [ 78.77182237   8.02723751]\n",
      " [ 73.8241153    8.56914188]\n",
      " [ 62.09669879  75.06858282]\n",
      " [ 86.31338251  43.12212255]\n",
      " [ 18.02775638  86.82016988]\n",
      " [ 59.94163828  27.84757826]\n",
      " [106.40018797  53.02240365]\n",
      " [114.33722054  39.67724929]\n",
      " [ 82.3893197   84.4278022 ]]\n"
     ]
    }
   ],
   "source": [
    "#### 44. Consider a random 10x2 matrix representing cartesian coordinates, convert them to polar coordinates (★★☆)\n",
    "a44 = np.random.randint(100, size=(10,2))\n",
    "b44 = np.zeros((10,2), dtype=\"float\")\n",
    "\n",
    "print('cartesian coordinates\\n', a44)\n",
    "\n",
    "x = a44[:,0].reshape(10,).copy()\n",
    "y = a44[:,1].reshape(10,).copy()\n",
    "b44[:,0] = np.sqrt(x**2 + y**2)\n",
    "b44[:,1] = np.arctan(y / x) * 180 / math.pi\n",
    "\n",
    "print('\\npolar coordinates\\n', b44)"
   ],
   "metadata": {
    "collapsed": false
   }
  },
  {
   "cell_type": "code",
   "execution_count": 123,
   "outputs": [
    {
     "name": "stdout",
     "output_type": "stream",
     "text": [
      "before replacing [9 4 9 0 6 5 3 0 0 1]\n",
      "after replacing [0 4 0 0 6 5 3 0 0 1]\n"
     ]
    }
   ],
   "source": [
    "#### 45. Create random vector of size 10 and replace the maximum value by 0 (★★☆)\n",
    "a45 = np.random.randint(10, size=10)\n",
    "m = np.max(a45)\n",
    "i = np.where(a45 == m)\n",
    "\n",
    "print('before replacing', a45)\n",
    "\n",
    "a45[i] = 0\n",
    "\n",
    "print('after replacing', a45)"
   ],
   "metadata": {
    "collapsed": false
   }
  },
  {
   "cell_type": "code",
   "execution_count": 125,
   "outputs": [
    {
     "name": "stdout",
     "output_type": "stream",
     "text": [
      "[[0 0]\n",
      " [0 1]\n",
      " [1 0]\n",
      " [1 1]]\n",
      "[[0 0]\n",
      " [0 1]\n",
      " [1 0]\n",
      " [1 1]]\n",
      "[[(0, 0) (0, 0)]\n",
      " [(0, 0) (1, 1)]\n",
      " [(1, 1) (0, 0)]\n",
      " [(1, 1) (1, 1)]]\n"
     ]
    }
   ],
   "source": [
    "#### 46. Create a structured array with `x` and `y` coordinates covering the [0,1]x[0,1] area (★★☆)\n",
    "a46 = np.array(\n",
    "    [[0,0], [0,1], [1,0], [1,1]],\n",
    "    dtype=[('x', 'i4'), ('y', 'i4')]\n",
    ")\n",
    "print(a46)"
   ],
   "metadata": {
    "collapsed": false
   }
  },
  {
   "cell_type": "code",
   "execution_count": 129,
   "outputs": [
    {
     "name": "stdout",
     "output_type": "stream",
     "text": [
      "[[-0.2        -1.         -0.14285714 -0.2        -0.2        -0.25\n",
      "  -1.         -0.25        1.         -0.5       ]\n",
      " [ 1.          0.2        -1.          1.          1.          0.5\n",
      "   0.2         0.5         0.14285714  0.25      ]\n",
      " [-0.16666667 -0.5        -0.125      -0.16666667 -0.16666667 -0.2\n",
      "  -0.5        -0.2                inf -0.33333333]\n",
      " [-0.16666667 -0.5        -0.125      -0.16666667 -0.16666667 -0.2\n",
      "  -0.5        -0.2                inf -0.33333333]\n",
      " [-0.25               inf -0.16666667 -0.25       -0.25       -0.33333333\n",
      "          inf -0.33333333  0.5        -1.        ]\n",
      " [-0.2        -1.         -0.14285714 -0.2        -0.2        -0.25\n",
      "  -1.         -0.25        1.         -0.5       ]\n",
      " [-0.5         0.5        -0.25       -0.5        -0.5        -1.\n",
      "   0.5        -1.          0.25        1.        ]\n",
      " [        inf  0.25       -0.5                inf         inf  1.\n",
      "   0.25        1.          0.16666667  0.33333333]\n",
      " [-0.16666667 -0.5        -0.125      -0.16666667 -0.16666667 -0.2\n",
      "  -0.5        -0.2                inf -0.33333333]\n",
      " [        inf  0.25       -0.5                inf         inf  1.\n",
      "   0.25        1.          0.16666667  0.33333333]]\n"
     ]
    },
    {
     "name": "stderr",
     "output_type": "stream",
     "text": [
      "/tmp/ipykernel_7179/1354421915.py:4: RuntimeWarning: divide by zero encountered in divide\n",
      "  print(1.0 / (a47.reshape((-1,1)) - b47))\n"
     ]
    }
   ],
   "source": [
    "#### 47. Given two arrays, X and Y, construct the Cauchy matrix C (Cij =1/(xi - yj)) (★★☆)\n",
    "a47 = np.random.randint(1, 10, size=10)\n",
    "b47 = np.random.randint(1, 10, size=10)\n",
    "print(1.0 / (a47.reshape((-1,1)) - b47))"
   ],
   "metadata": {
    "collapsed": false
   }
  },
  {
   "cell_type": "code",
   "execution_count": 133,
   "outputs": [
    {
     "name": "stdout",
     "output_type": "stream",
     "text": [
      "int: min= -9223372036854775808 max= 9223372036854775807\n",
      "float: min= -1.7976931348623157e+308 max= 1.7976931348623157e+308\n"
     ]
    }
   ],
   "source": [
    "#### 48. Print the minimum and maximum representable value for each numpy scalar type (★★☆)\n",
    "print(\"int: min=\", np.iinfo('int').min, \"max=\", np.iinfo('int').max)\n",
    "print(\"float: min=\", np.finfo('float').min, \"max=\", np.finfo('float').max)"
   ],
   "metadata": {
    "collapsed": false
   }
  },
  {
   "cell_type": "code",
   "execution_count": 127,
   "outputs": [],
   "source": [
    "#### 49. How to print all the values of an array? (★★☆)\n",
    "# numpy.set_printoptions(threshold=sys.maxsize)"
   ],
   "metadata": {
    "collapsed": false
   }
  },
  {
   "cell_type": "code",
   "execution_count": 148,
   "outputs": [
    {
     "name": "stdout",
     "output_type": "stream",
     "text": [
      "[51 92 14 71 60 20 82 86 74 74 87 99 23  2 21 52  1 87 29 37]\n",
      "closest number to 47 is 37\n"
     ]
    }
   ],
   "source": [
    "#### 50. How to find the closest value (to a given scalar) in a vector? (★★☆)\n",
    "def find_closest_number(arr, num):\n",
    "    # sort the array\n",
    "    arr = np.sort(arr)\n",
    "\n",
    "    # slice it into 2 parts, above our number and below it\n",
    "    above_split = np.where(arr > num)\n",
    "    below_split = np.where(arr < num)\n",
    "\n",
    "    # find what those numbers are\n",
    "    n_above = arr[above_split[0][0]]\n",
    "    n_below = arr[below_split[0][-1]]\n",
    "\n",
    "    # return the one that is closer\n",
    "    if n_above - num > closest_to - n_below:\n",
    "        return n_above\n",
    "    else:\n",
    "        return n_below\n",
    "\n",
    "def find_closest_number2(arr, num):\n",
    "    # sort the array\n",
    "    arr = np.sort(arr)\n",
    "\n",
    "    # find what those numbers are\n",
    "    n_above = np.min(arr[arr > num])\n",
    "    n_below = np.max(arr[arr < num])\n",
    "\n",
    "    # return the one that is closer\n",
    "    if n_above - closest_to > closest_to - n_below:\n",
    "        return n_above\n",
    "    else:\n",
    "        return n_below\n",
    "\n",
    "rand = np.random.RandomState(42)\n",
    "a50 = rand.randint(100, size=20)\n",
    "closest_to = 47\n",
    "\n",
    "print(a50)\n",
    "print(f'closest number to {closest_to} is {find_closest_number2(a50, closest_to)}')"
   ],
   "metadata": {
    "collapsed": false
   }
  },
  {
   "cell_type": "code",
   "execution_count": null,
   "outputs": [],
   "source": [
    "#### 51. Create a structured array representing a position (x,y) and a color (r,g,b) (★★☆)\n",
    "a51 = np.array(\n",
    "    [],\n",
    "    dtype=[('x', 'i4'), ('y', 'i4'), ('rgb', '>i4')]\n",
    ")\n",
    "print(a46)"
   ],
   "metadata": {
    "collapsed": false,
    "pycharm": {
     "is_executing": true
    }
   }
  },
  {
   "cell_type": "code",
   "execution_count": 158,
   "outputs": [
    {
     "name": "stdout",
     "output_type": "stream",
     "text": [
      "[[ 44.          47.          46.04345773]\n",
      " [ 64.          67.          28.28427125]\n",
      " [ 67.           9.          58.07753438]\n",
      " [ 83.          21.          20.        ]\n",
      " [ 36.          87.          81.0246876 ]\n",
      " [ 70.          88.          34.0147027 ]\n",
      " [ 88.          12.          78.10249676]\n",
      " [ 58.          65.          60.90155991]\n",
      " [ 39.          87.          29.06888371]\n",
      " [ 46.          88.           7.07106781]\n",
      " [ 81.          37.          61.85466838]\n",
      " [ 25.          77.          68.81860214]\n",
      " [ 72.           9.          82.66196223]\n",
      " [ 20.          80.          88.00568163]\n",
      " [ 69.          79.          49.01020302]\n",
      " [ 47.          64.          26.62705391]\n",
      " [ 82.          99.          49.49747468]\n",
      " [ 88.          49.          50.35871325]\n",
      " [ 29.          19.          66.18912297]\n",
      " [ 19.          14.          11.18033989]\n",
      " [ 39.          32.          26.90724809]\n",
      " [ 65.           9.          34.71310992]\n",
      " [ 57.          32.          24.35159132]\n",
      " [ 31.          74.          49.39635614]\n",
      " [ 23.          35.          39.81205847]\n",
      " [ 75.          55.          55.71355311]\n",
      " [ 28.          34.          51.4781507 ]\n",
      " [  0.           0.          44.04543109]\n",
      " [ 36.          53.          64.07027392]\n",
      " [  5.          38.          34.43835072]\n",
      " [ 17.          79.          42.72001873]\n",
      " [  4.          42.          39.2173431 ]\n",
      " [ 58.          31.          55.10898293]\n",
      " [  1.          65.          66.37017402]\n",
      " [ 41.          57.          40.79215611]\n",
      " [ 35.          11.          46.38965402]\n",
      " [ 46.          82.          71.84705979]\n",
      " [ 91.           0.          93.53608929]\n",
      " [ 14.          99.         125.41929676]\n",
      " [ 53.          12.          95.34149149]\n",
      " [ 42.          84.          72.83543094]\n",
      " [ 75.          68.          36.67424164]\n",
      " [  6.          68.          69.        ]\n",
      " [ 47.           3.          76.85050423]\n",
      " [ 76.          52.          56.93856338]\n",
      " [ 78.          15.          37.05401463]\n",
      " [ 20.          99.         102.07840124]\n",
      " [ 58.          23.          84.97058314]\n",
      " [ 79.          13.          23.2594067 ]\n",
      " [ 85.          48.          35.51056181]\n",
      " [ 49.          69.          41.67733197]\n",
      " [ 41.          35.          34.92849839]\n",
      " [ 64.          95.          64.25729531]\n",
      " [ 69.          94.           5.09901951]\n",
      " [  0.          50.          81.83520025]\n",
      " [ 36.          34.          39.39543121]\n",
      " [ 48.          93.          60.20797289]\n",
      " [  3.          98.          45.27692569]\n",
      " [ 42.          77.          44.29446918]\n",
      " [ 21.          73.          21.37755833]\n",
      " [  0.          10.          66.40783086]\n",
      " [ 43.          58.          64.44377394]\n",
      " [ 23.          59.          20.02498439]\n",
      " [  2.          98.          44.29446918]\n",
      " [ 62.          35.          87.        ]\n",
      " [ 94.          67.          45.254834  ]\n",
      " [ 82.          46.          24.18677324]\n",
      " [ 99.          20.          31.06444913]\n",
      " [ 81.          50.          34.98571137]\n",
      " [ 27.          14.          64.89992296]\n",
      " [ 41.          58.          46.17358552]\n",
      " [ 65.          36.          32.55764119]\n",
      " [ 10.          86.          74.33034374]\n",
      " [ 43.          11.          81.9390017 ]\n",
      " [  2.          51.          57.28001397]\n",
      " [ 80.          32.          80.28075735]\n",
      " [ 54.           0.          41.23105626]\n",
      " [ 38.          19.          24.8394847 ]\n",
      " [ 46.          42.          24.35159132]\n",
      " [ 56.          60.          20.59126028]\n",
      " [ 77.          30.          36.61966685]\n",
      " [ 24.           2.          59.94163828]\n",
      " [  3.          94.          94.36630755]\n",
      " [ 98.          13.         124.84390253]\n",
      " [ 40.          72.          82.73451517]\n",
      " [ 19.          95.          31.144823  ]\n",
      " [ 72.          26.          87.00574694]\n",
      " [ 66.          52.          26.68332813]\n",
      " [ 67.          61.           9.05538514]\n",
      " [ 14.          96.          63.51377803]\n",
      " [  4.          67.          30.6757233 ]\n",
      " [ 11.          86.          20.24845673]\n",
      " [ 77.          75.          66.91038783]\n",
      " [ 56.          16.          62.62587325]\n",
      " [ 24.          29.          34.53983208]\n",
      " [ 21.          25.           5.        ]\n",
      " [ 80.          60.          68.60029154]\n",
      " [ 61.          83.          29.83286778]\n",
      " [ 33.          32.          58.18075283]\n",
      " [ 70.          85.          64.63745044]]\n"
     ]
    }
   ],
   "source": [
    "#### 52. Consider a random vector with shape (100,2) representing coordinates, find point by point distances (★★☆)\n",
    "# The distance between two points using coordinates can be given as, d = √[(x2 x 2 − x1 x 1 )2 + (y2 y 2 − y1 y 1 )2], where (x1,y1 x 1 , y 1 ) and (x2,y2 x 2 , y 2 ) are the coordinates of the two points.\n",
    "rand = np.random.RandomState(0)\n",
    "a52 = rand.randint(100, size=(100,2))\n",
    "\n",
    "distances = np.hstack([a52, np.zeros((100,1))])\n",
    "\n",
    "for i, d in enumerate(distances):\n",
    "    try:\n",
    "        x1 = distances[i-1, 0]\n",
    "        x2 = distances[i, 0]\n",
    "        y1 = distances[i-1, 1]\n",
    "        y2 = distances[i, 1]\n",
    "        d[2] = np.sqrt(((x1 - x2) ** 2) + ((y1 - y2) ** 2))\n",
    "    except KeyError:\n",
    "        pass\n",
    "\n",
    "print(distances)"
   ],
   "metadata": {
    "collapsed": false
   }
  },
  {
   "cell_type": "code",
   "execution_count": null,
   "outputs": [],
   "source": [
    "#### 53. How to convert a float (32 bits) array into an integer (32 bits) in place?\n"
   ],
   "metadata": {
    "collapsed": false
   }
  },
  {
   "cell_type": "code",
   "execution_count": null,
   "outputs": [],
   "source": [
    "#### 54. How to read the following file? (★★☆)\n",
    "# ```\n",
    "# 1, 2, 3, 4, 5\n",
    "# 6,  ,  , 7, 8\n",
    "#  ,  , 9,10,11\n",
    "# ```\n",
    "\n"
   ],
   "metadata": {
    "collapsed": false
   }
  },
  {
   "cell_type": "code",
   "execution_count": null,
   "outputs": [],
   "source": [],
   "metadata": {
    "collapsed": false
   }
  }
 ],
 "metadata": {
  "kernelspec": {
   "display_name": "Python 3",
   "language": "python",
   "name": "python3"
  },
  "language_info": {
   "codemirror_mode": {
    "name": "ipython",
    "version": 2
   },
   "file_extension": ".py",
   "mimetype": "text/x-python",
   "name": "python",
   "nbconvert_exporter": "python",
   "pygments_lexer": "ipython2",
   "version": "2.7.6"
  }
 },
 "nbformat": 4,
 "nbformat_minor": 0
}
