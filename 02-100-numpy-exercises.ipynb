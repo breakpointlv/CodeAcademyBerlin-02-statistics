{
 "cells": [
  {
   "cell_type": "code",
   "execution_count": 1271,
   "metadata": {
    "collapsed": true
   },
   "outputs": [],
   "source": [
    "#### 1. Import the numpy package under the name `np`\n",
    "import numpy as np"
   ]
  },
  {
   "cell_type": "code",
   "execution_count": 1272,
   "outputs": [
    {
     "name": "stdout",
     "output_type": "stream",
     "text": [
      "<module 'numpy.version' from '/home/user/anaconda3/envs/env310/lib/python3.10/site-packages/numpy/version.py'>\n",
      "openblas64__info:\n",
      "    libraries = ['openblas64_', 'openblas64_']\n",
      "    library_dirs = ['/usr/local/lib']\n",
      "    language = c\n",
      "    define_macros = [('HAVE_CBLAS', None), ('BLAS_SYMBOL_SUFFIX', '64_'), ('HAVE_BLAS_ILP64', None)]\n",
      "    runtime_library_dirs = ['/usr/local/lib']\n",
      "blas_ilp64_opt_info:\n",
      "    libraries = ['openblas64_', 'openblas64_']\n",
      "    library_dirs = ['/usr/local/lib']\n",
      "    language = c\n",
      "    define_macros = [('HAVE_CBLAS', None), ('BLAS_SYMBOL_SUFFIX', '64_'), ('HAVE_BLAS_ILP64', None)]\n",
      "    runtime_library_dirs = ['/usr/local/lib']\n",
      "openblas64__lapack_info:\n",
      "    libraries = ['openblas64_', 'openblas64_']\n",
      "    library_dirs = ['/usr/local/lib']\n",
      "    language = c\n",
      "    define_macros = [('HAVE_CBLAS', None), ('BLAS_SYMBOL_SUFFIX', '64_'), ('HAVE_BLAS_ILP64', None), ('HAVE_LAPACKE', None)]\n",
      "    runtime_library_dirs = ['/usr/local/lib']\n",
      "lapack_ilp64_opt_info:\n",
      "    libraries = ['openblas64_', 'openblas64_']\n",
      "    library_dirs = ['/usr/local/lib']\n",
      "    language = c\n",
      "    define_macros = [('HAVE_CBLAS', None), ('BLAS_SYMBOL_SUFFIX', '64_'), ('HAVE_BLAS_ILP64', None), ('HAVE_LAPACKE', None)]\n",
      "    runtime_library_dirs = ['/usr/local/lib']\n",
      "Supported SIMD extensions in this NumPy install:\n",
      "    baseline = SSE,SSE2,SSE3\n",
      "    found = SSSE3,SSE41,POPCNT,SSE42,AVX,F16C,FMA3,AVX2\n",
      "    not found = AVX512F,AVX512CD,AVX512_KNL,AVX512_KNM,AVX512_SKX,AVX512_CLX,AVX512_CNL,AVX512_ICL\n"
     ]
    }
   ],
   "source": [
    "#### 2. Print the numpy version and the configuration\n",
    "print(np.version)\n",
    "np.show_config()"
   ],
   "metadata": {
    "collapsed": false
   }
  },
  {
   "cell_type": "code",
   "execution_count": 1273,
   "outputs": [
    {
     "name": "stdout",
     "output_type": "stream",
     "text": [
      "[0. 0. 0. 0. 0. 0. 0. 0. 0. 0.]\n"
     ]
    }
   ],
   "source": [
    "#### 3. Create a null vector of size 10\n",
    "null_vestor_10 = np.zeros(10)\n",
    "print(null_vestor_10)"
   ],
   "metadata": {
    "collapsed": false
   }
  },
  {
   "cell_type": "code",
   "execution_count": 1274,
   "outputs": [
    {
     "name": "stdout",
     "output_type": "stream",
     "text": [
      "80 bytes\n"
     ]
    }
   ],
   "source": [
    "#### 4. How to find the memory size of any array\n",
    "print(null_vestor_10.nbytes, \"bytes\")"
   ],
   "metadata": {
    "collapsed": false
   }
  },
  {
   "cell_type": "code",
   "execution_count": 1275,
   "outputs": [],
   "source": [
    "#### 5. How to get the documentation of the numpy add function from the command line?\n",
    "# help np.add"
   ],
   "metadata": {
    "collapsed": false
   }
  },
  {
   "cell_type": "code",
   "execution_count": 1276,
   "outputs": [
    {
     "name": "stdout",
     "output_type": "stream",
     "text": [
      "[0. 0. 0. 0. 1. 0. 0. 0. 0. 0.]\n"
     ]
    }
   ],
   "source": [
    "#### 6. Create a null vector of size 10 but the fifth value which is 1\n",
    "a6 = np.zeros(10)\n",
    "a6[4] = 1\n",
    "print(a6)"
   ],
   "metadata": {
    "collapsed": false
   }
  },
  {
   "cell_type": "code",
   "execution_count": 1277,
   "outputs": [
    {
     "name": "stdout",
     "output_type": "stream",
     "text": [
      "[10 11 12 13 14 15 16 17 18 19 20 21 22 23 24 25 26 27 28 29 30 31 32 33\n",
      " 34 35 36 37 38 39 40 41 42 43 44 45 46 47 48 49]\n"
     ]
    }
   ],
   "source": [
    "#### 7. Create a vector with values ranging from 10 to 49\n",
    "a7 = np.arange(10, 50)\n",
    "print(a7)"
   ],
   "metadata": {
    "collapsed": false
   }
  },
  {
   "cell_type": "code",
   "execution_count": 1278,
   "outputs": [
    {
     "name": "stdout",
     "output_type": "stream",
     "text": [
      "[49 48 47 46 45 44 43 42 41 40 39 38 37 36 35 34 33 32 31 30 29 28 27 26\n",
      " 25 24 23 22 21 20 19 18 17 16 15 14 13 12 11 10]\n"
     ]
    }
   ],
   "source": [
    "#### 8. Reverse a vector (first element becomes last)\n",
    "a7_flipped = np.flip(a7)\n",
    "print(a7_flipped)"
   ],
   "metadata": {
    "collapsed": false
   }
  },
  {
   "cell_type": "code",
   "execution_count": 1279,
   "outputs": [
    {
     "name": "stdout",
     "output_type": "stream",
     "text": [
      "[[0 1 2]\n",
      " [3 4 5]\n",
      " [6 7 8]]\n"
     ]
    }
   ],
   "source": [
    "#### 9. Create a 3x3 matrix with values ranging from 0 to 8\n",
    "a9 = np.arange(9).reshape(3, 3)\n",
    "print(a9)"
   ],
   "metadata": {
    "collapsed": false
   }
  },
  {
   "cell_type": "code",
   "execution_count": 1280,
   "outputs": [
    {
     "name": "stdout",
     "output_type": "stream",
     "text": [
      "(array([2, 3, 5]),)\n"
     ]
    }
   ],
   "source": [
    "#### 10. Find indices of non-zero elements from [1,2,0,0,4,0]\n",
    "a10 = np.array([1,2,0,0,4,0])\n",
    "print(np.where(a10 == 0))"
   ],
   "metadata": {
    "collapsed": false
   }
  },
  {
   "cell_type": "code",
   "execution_count": 1281,
   "outputs": [
    {
     "name": "stdout",
     "output_type": "stream",
     "text": [
      "[[1. 0. 0.]\n",
      " [0. 1. 0.]\n",
      " [0. 0. 1.]]\n"
     ]
    }
   ],
   "source": [
    "#### 11. Create a 3x3 identity matrix\n",
    "a11 = np.eye(3)\n",
    "print(a11)"
   ],
   "metadata": {
    "collapsed": false
   }
  },
  {
   "cell_type": "code",
   "execution_count": 1282,
   "outputs": [
    {
     "name": "stdout",
     "output_type": "stream",
     "text": [
      "[[44 47 64]\n",
      " [67 67  9]\n",
      " [83 21 36]]\n"
     ]
    }
   ],
   "source": [
    "#### 12. Create a 3x3x3 array with random values\n",
    "np.random.seed(0)\n",
    "a12 = np.random.randint(100, size=(3,3))\n",
    "print(a12)"
   ],
   "metadata": {
    "collapsed": false
   }
  },
  {
   "cell_type": "code",
   "execution_count": 1283,
   "outputs": [
    {
     "name": "stdout",
     "output_type": "stream",
     "text": [
      "[[87 70 88 88 12 58 65 39 87 46]\n",
      " [88 81 37 25 77 72  9 20 80 69]\n",
      " [79 47 64 82 99 88 49 29 19 19]\n",
      " [14 39 32 65  9 57 32 31 74 23]\n",
      " [35 75 55 28 34  0  0 36 53  5]\n",
      " [38 17 79  4 42 58 31  1 65 41]\n",
      " [57 35 11 46 82 91  0 14 99 53]\n",
      " [12 42 84 75 68  6 68 47  3 76]\n",
      " [52 78 15 20 99 58 23 79 13 85]\n",
      " [48 49 69 41 35 64 95 69 94  0]]\n",
      "max 99\n",
      "min 0\n"
     ]
    }
   ],
   "source": [
    "#### 13. Create a 10x10 array with random values and find the minimum and maximum values\n",
    "a13 = np.random.randint(100, size=(10,10))\n",
    "print(a13)\n",
    "print('max', np.max(a13))\n",
    "print('min', np.min(a13))"
   ],
   "metadata": {
    "collapsed": false
   }
  },
  {
   "cell_type": "code",
   "execution_count": 1284,
   "outputs": [
    {
     "name": "stdout",
     "output_type": "stream",
     "text": [
      "[50 36 34 48 93  3 98 42 77 21 73  0 10 43 58 23 59  2 98 62 35 94 67 82\n",
      " 46 99 20 81 50 27]\n",
      "mean 51.03333333333333\n"
     ]
    }
   ],
   "source": [
    "#### 14. Create a random vector of size 30 and find the mean value\n",
    "a14 = np.random.randint(100, size=30)\n",
    "print(a14)\n",
    "print(\"mean\", a14.mean())"
   ],
   "metadata": {
    "collapsed": false
   }
  },
  {
   "cell_type": "code",
   "execution_count": 1285,
   "outputs": [
    {
     "name": "stdout",
     "output_type": "stream",
     "text": [
      "[[1. 1. 1. 1. 1. 1. 1. 1. 1. 1.]\n",
      " [1. 0. 0. 0. 0. 0. 0. 0. 0. 1.]\n",
      " [1. 0. 0. 0. 0. 0. 0. 0. 0. 1.]\n",
      " [1. 0. 0. 0. 0. 0. 0. 0. 0. 1.]\n",
      " [1. 0. 0. 0. 0. 0. 0. 0. 0. 1.]\n",
      " [1. 0. 0. 0. 0. 0. 0. 0. 0. 1.]\n",
      " [1. 0. 0. 0. 0. 0. 0. 0. 0. 1.]\n",
      " [1. 0. 0. 0. 0. 0. 0. 0. 0. 1.]\n",
      " [1. 0. 0. 0. 0. 0. 0. 0. 0. 1.]\n",
      " [1. 1. 1. 1. 1. 1. 1. 1. 1. 1.]]\n"
     ]
    }
   ],
   "source": [
    "#### 15. Create a 2d array with 1 on the border and 0 inside\n",
    "a15 = np.zeros((10,10))\n",
    "a15[0] = 1\n",
    "a15[-1] = 1\n",
    "a15[:,0] = 1\n",
    "a15[:,-1] = 1\n",
    "print(a15)"
   ],
   "metadata": {
    "collapsed": false
   }
  },
  {
   "cell_type": "code",
   "execution_count": 1286,
   "outputs": [
    {
     "name": "stdout",
     "output_type": "stream",
     "text": [
      "[[0. 0. 0. 0. 0. 0. 0. 0. 0. 0. 0. 0.]\n",
      " [0. 1. 1. 1. 1. 1. 1. 1. 1. 1. 1. 0.]\n",
      " [0. 1. 0. 0. 0. 0. 0. 0. 0. 0. 1. 0.]\n",
      " [0. 1. 0. 0. 0. 0. 0. 0. 0. 0. 1. 0.]\n",
      " [0. 1. 0. 0. 0. 0. 0. 0. 0. 0. 1. 0.]\n",
      " [0. 1. 0. 0. 0. 0. 0. 0. 0. 0. 1. 0.]\n",
      " [0. 1. 0. 0. 0. 0. 0. 0. 0. 0. 1. 0.]\n",
      " [0. 1. 0. 0. 0. 0. 0. 0. 0. 0. 1. 0.]\n",
      " [0. 1. 0. 0. 0. 0. 0. 0. 0. 0. 1. 0.]\n",
      " [0. 1. 0. 0. 0. 0. 0. 0. 0. 0. 1. 0.]\n",
      " [0. 1. 1. 1. 1. 1. 1. 1. 1. 1. 1. 0.]\n",
      " [0. 0. 0. 0. 0. 0. 0. 0. 0. 0. 0. 0.]]\n"
     ]
    }
   ],
   "source": [
    "#### 16. How to add a border (filled with 0's) around an existing array?\n",
    "hborder = np.zeros(10)\n",
    "vborder = np.zeros(12).reshape(12, 1)\n",
    "a15 = np.vstack([hborder, a15, hborder])\n",
    "a15 = np.hstack([vborder, a15, vborder])\n",
    "print(a15)"
   ],
   "metadata": {
    "collapsed": false
   }
  },
  {
   "cell_type": "code",
   "execution_count": 1287,
   "outputs": [
    {
     "name": "stdout",
     "output_type": "stream",
     "text": [
      "nan\n",
      "False\n",
      "False\n",
      "nan\n",
      "True\n",
      "False\n"
     ]
    }
   ],
   "source": [
    "#### 17. What is the result of the following expression? (★☆☆)\n",
    "print(0 * np.nan)\n",
    "print(np.nan == np.nan)\n",
    "print(np.inf > np.nan)\n",
    "print(np.nan - np.nan)\n",
    "print(np.nan in set([np.nan]))\n",
    "print(0.3 == 3 * 0.1)"
   ],
   "metadata": {
    "collapsed": false
   }
  },
  {
   "cell_type": "code",
   "execution_count": 1288,
   "outputs": [
    {
     "name": "stdout",
     "output_type": "stream",
     "text": [
      "[[0. 0. 0. 0. 0.]\n",
      " [1. 0. 0. 0. 0.]\n",
      " [0. 2. 0. 0. 0.]\n",
      " [0. 0. 3. 0. 0.]\n",
      " [0. 0. 0. 4. 0.]]\n"
     ]
    }
   ],
   "source": [
    "#### 18. Create a 5x5 matrix with values 1,2,3,4 just below the diagonal\n",
    "size = 5\n",
    "a18 = np.zeros((size,size))\n",
    "\n",
    "for i in range(1, size):\n",
    "    a18[i, i-1] = i\n",
    "\n",
    "print(a18)"
   ],
   "metadata": {
    "collapsed": false
   }
  },
  {
   "cell_type": "code",
   "execution_count": 1289,
   "outputs": [
    {
     "name": "stdout",
     "output_type": "stream",
     "text": [
      "[[1. 0. 1. 0. 1. 0. 1. 0.]\n",
      " [0. 1. 0. 1. 0. 1. 0. 1.]\n",
      " [1. 0. 1. 0. 1. 0. 1. 0.]\n",
      " [0. 1. 0. 1. 0. 1. 0. 1.]\n",
      " [1. 0. 1. 0. 1. 0. 1. 0.]\n",
      " [0. 1. 0. 1. 0. 1. 0. 1.]\n",
      " [1. 0. 1. 0. 1. 0. 1. 0.]\n",
      " [0. 1. 0. 1. 0. 1. 0. 1.]]\n"
     ]
    }
   ],
   "source": [
    "#### 19. Create a 8x8 matrix and fill it with a checkerboard pattern\n",
    "size = 8\n",
    "a18 = np.zeros((size,size))\n",
    "a18[::2,::2] = 1\n",
    "a18[1::2,1::2] = 1\n",
    "print(a18)"
   ],
   "metadata": {
    "collapsed": false
   }
  },
  {
   "cell_type": "code",
   "execution_count": 1290,
   "outputs": [
    {
     "name": "stdout",
     "output_type": "stream",
     "text": [
      "[[[14 41 58 65 36 10 86 43]\n",
      "  [11  2 51 80 32 54  0 38]\n",
      "  [19 46 42 56 60 77 30 24]\n",
      "  [ 2  3 94 98 13 40 72 19]\n",
      "  [95 72 26 66 52 67 61 14]\n",
      "  [96  4 67 11 86 77 75 56]\n",
      "  [16 24 29 21 25 80 60 61]]\n",
      "\n",
      " [[83 33 32 70 85 31 13 71]\n",
      "  [56 24 79 41 18 40 54 79]\n",
      "  [11 38 93  1 95 44 88 24]\n",
      "  [67 82  3 76 35 86 61 69]\n",
      "  [87 43 32 11 84 10 54 37]\n",
      "  [28  2 27 83 89 23 53 51]\n",
      "  [46 20 53 29 67 35 39  9]]\n",
      "\n",
      " [[73 41 23  3 46 90 50  3]\n",
      "  [31  9 10 27 45 71 39 61]\n",
      "  [85 97 44 34 34 88 33  5]\n",
      "  [36  0 75 34 69 53 80 62]\n",
      "  [ 8 61  1 81 35 91 40 36]\n",
      "  [48 25 67 35 30 29 33 18]\n",
      "  [17 93 84  2 69 12 44 66]]\n",
      "\n",
      " [[91 85 39 39 75 22 30 17]\n",
      "  [70 71 18 92 43 83 49 41]\n",
      "  [93 46 21 73 89 96 91 73]\n",
      "  [28 81 58  0 86 63 16 36]\n",
      "  [94 24 63 67 51  8 56 91]\n",
      "  [93 87 32 19 72 71 87 13]\n",
      "  [58 81 55 64 75 92 36 25]]\n",
      "\n",
      " [[32 42 14 86 28 20 82 68]\n",
      "  [22 99 83  7 72 61 13  5]\n",
      "  [ 0  8 79 79 53 11  4 39]\n",
      "  [92 45 26 74 52 49 91 51]\n",
      "  [99 18 34 51 30 53 58 43]\n",
      "  [55 18 45 87 65 70 53 48]\n",
      "  [94 59 80 26 35 58 49 73]]\n",
      "\n",
      " [[44 13 70 38 39  8 13  7]\n",
      "  [80 22 79 89  8 99  6 81]\n",
      "  [71 84 89 66 60 16 56 23]\n",
      "  [24  4 49 87 30 54 25 20]\n",
      "  [97 57 23 27 29 33 53 51]\n",
      "  [86  7  9 54  0 83 36 81]\n",
      "  [20  3 42 65 20 36 68 80]]]\n",
      "(4, 2, 2)\n"
     ]
    }
   ],
   "source": [
    "#### 20. Consider a (6,7,8) shape array, what is the index (x,y,z) of the 100th element?\n",
    "import math\n",
    "\n",
    "def get_coords(sx, sy, sz, el_num):\n",
    "    el_cnt_in_z = sx * sy\n",
    "    z = el_num // el_cnt_in_z\n",
    "    y = (el_num % el_cnt_in_z) // sx\n",
    "    x = el_num - y * sx * sz\n",
    "    return (x, y, z)\n",
    "\n",
    "sx = 6\n",
    "sy = 7\n",
    "sz = 8\n",
    "el_num = 100\n",
    "a20 = np.random.randint(100, size=(sx,sy,sz))\n",
    "\n",
    "print(a20)\n",
    "print(get_coords(sx, sy, sz, el_num))\n",
    "\n"
   ],
   "metadata": {
    "collapsed": false
   }
  },
  {
   "cell_type": "code",
   "execution_count": 1291,
   "outputs": [
    {
     "name": "stdout",
     "output_type": "stream",
     "text": [
      "[[1 0 1 0 1 0 1 0 1 0 1 0 1 0 1 0]\n",
      " [0 1 0 1 0 1 0 1 0 1 0 1 0 1 0 1]\n",
      " [1 0 1 0 1 0 1 0 1 0 1 0 1 0 1 0]\n",
      " [0 1 0 1 0 1 0 1 0 1 0 1 0 1 0 1]\n",
      " [1 0 1 0 1 0 1 0 1 0 1 0 1 0 1 0]\n",
      " [0 1 0 1 0 1 0 1 0 1 0 1 0 1 0 1]\n",
      " [1 0 1 0 1 0 1 0 1 0 1 0 1 0 1 0]\n",
      " [0 1 0 1 0 1 0 1 0 1 0 1 0 1 0 1]\n",
      " [1 0 1 0 1 0 1 0 1 0 1 0 1 0 1 0]\n",
      " [0 1 0 1 0 1 0 1 0 1 0 1 0 1 0 1]\n",
      " [1 0 1 0 1 0 1 0 1 0 1 0 1 0 1 0]\n",
      " [0 1 0 1 0 1 0 1 0 1 0 1 0 1 0 1]\n",
      " [1 0 1 0 1 0 1 0 1 0 1 0 1 0 1 0]\n",
      " [0 1 0 1 0 1 0 1 0 1 0 1 0 1 0 1]\n",
      " [1 0 1 0 1 0 1 0 1 0 1 0 1 0 1 0]\n",
      " [0 1 0 1 0 1 0 1 0 1 0 1 0 1 0 1]]\n"
     ]
    }
   ],
   "source": [
    "#### 21. Create a checkerboard 8x8 matrix using the tile function\n",
    "a21 = np.array([[1,0], [0,1]])\n",
    "print(np.tile(a21, (8,8)))"
   ],
   "metadata": {
    "collapsed": false
   }
  },
  {
   "cell_type": "code",
   "execution_count": 1292,
   "outputs": [
    {
     "name": "stdout",
     "output_type": "stream",
     "text": [
      "295.8665239597072\n"
     ]
    }
   ],
   "source": [
    "#### 22. Normalize a 5x5 random matrix\n",
    "a22 = np.random.randint(100, size=(5,5))\n",
    "print(np.linalg.norm(a22))"
   ],
   "metadata": {
    "collapsed": false
   }
  },
  {
   "cell_type": "code",
   "execution_count": 1293,
   "outputs": [
    {
     "name": "stdout",
     "output_type": "stream",
     "text": [
      "4\n"
     ]
    }
   ],
   "source": [
    "#### 23. Create a custom dtype that describes a color as four unsigned bytes (RGBA)\n",
    "rgb_dt = np.dtype('>i4')\n",
    "print(rgb_dt.itemsize)"
   ],
   "metadata": {
    "collapsed": false
   }
  },
  {
   "cell_type": "code",
   "execution_count": 1294,
   "outputs": [
    {
     "name": "stdout",
     "output_type": "stream",
     "text": [
      "[[39 24 58]\n",
      " [36 99 69]\n",
      " [ 6  3 98]\n",
      " [40 60 33]\n",
      " [28 68 26]]\n",
      "[[96 51]\n",
      " [73 53]\n",
      " [69 33]]\n",
      "[[ 9498  5175]\n",
      " [15444  9360]\n",
      " [ 7557  3699]\n",
      " [10497  6309]\n",
      " [ 9446  5890]]\n"
     ]
    }
   ],
   "source": [
    "#### 24. Multiply a 5x3 matrix by a 3x2 matrix (real matrix product)\n",
    "a24_1 = np.random.randint(100, size=(5,3))\n",
    "a24_2 = np.random.randint(100, size=(3,2))\n",
    "print(a24_1)\n",
    "print(a24_2)\n",
    "print(np.matmul(a24_1, a24_2))"
   ],
   "metadata": {
    "collapsed": false
   }
  },
  {
   "cell_type": "code",
   "execution_count": 1295,
   "outputs": [
    {
     "name": "stdout",
     "output_type": "stream",
     "text": [
      "[ 7 94 72 84  7 67 85 91 67 84 71 83 95  0  5 91 30 73 83  7 21 92  8 43\n",
      " 46  0 51 38 89 74 98 87 96 83 26 78 32 70 97 44 59 57 50 45  4 57 93 91\n",
      " 17 35]\n",
      "[-7 94 72 84 -7 67 85 91 67 84 71 83 95  0 -5 91 30 73 83 -7 21 92 -8 43\n",
      " 46  0 51 38 89 74 98 87 96 83 26 78 32 70 97 44 59 57 50 45 -4 57 93 91\n",
      " 17 35]\n"
     ]
    }
   ],
   "source": [
    "#### 25. Given a 1D array, negate all elements which are between 3 and 8, in place\n",
    "a25 = np.random.randint(100, size=50)\n",
    "\n",
    "def negt(x):\n",
    "    if x >=3 and x <= 8:\n",
    "        return -x\n",
    "    else:\n",
    "        return x\n",
    "\n",
    "np_neg = np.vectorize(negt)\n",
    "\n",
    "print(a25)\n",
    "print(np_neg(a25))"
   ],
   "metadata": {
    "collapsed": false
   }
  }
 ],
 "metadata": {
  "kernelspec": {
   "display_name": "Python 3",
   "language": "python",
   "name": "python3"
  },
  "language_info": {
   "codemirror_mode": {
    "name": "ipython",
    "version": 2
   },
   "file_extension": ".py",
   "mimetype": "text/x-python",
   "name": "python",
   "nbconvert_exporter": "python",
   "pygments_lexer": "ipython2",
   "version": "2.7.6"
  }
 },
 "nbformat": 4,
 "nbformat_minor": 0
}
