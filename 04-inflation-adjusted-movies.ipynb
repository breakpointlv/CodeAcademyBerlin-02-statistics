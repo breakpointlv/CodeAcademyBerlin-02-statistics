{
 "cells": [
  {
   "cell_type": "code",
   "execution_count": 2,
   "metadata": {
    "collapsed": true
   },
   "outputs": [],
   "source": [
    "import pandas as pd\n",
    "import numpy as np"
   ]
  },
  {
   "cell_type": "code",
   "execution_count": 3,
   "outputs": [
    {
     "data": {
      "text/plain": "   MovieID                       Title MPAA Rating      Budget        Gross  \\\n0        1          Look Who's Talking       PG-13   7500000.0  296000000.0   \n1        2          Driving Miss Daisy          PG   7500000.0  145793296.0   \n2        3              Turner & Hooch          PG  13000000.0   71079915.0   \n3        4  Born on the Fourth of July           R  14000000.0  161001698.0   \n4        5             Field of Dreams          PG  15000000.0   84431625.0   \n\n  Release Date    Genre  Release year  Runtime  Rating  Rating Count  \\\n0   1989-10-12  Romance          1989     93.0     5.9       73638.0   \n1   1989-12-13   Comedy          1989     99.0     7.4       91075.0   \n2   1989-07-28    Crime          1989    100.0     7.2       91415.0   \n3   1989-12-20      War          1989    145.0     7.2       91415.0   \n4   1989-04-21    Drama          1989    107.0     7.5      101702.0   \n\n                                             Summary  \n0  After a single, career-minded woman is left on...  \n1  An old Jewish woman and her African-American c...  \n2  Det. Scott Turner (Tom Hanks) is an uptight, b...  \n3  The biography of Ron Kovic. Paralyzed in the V...  \n4  An Iowa corn farmer, hearing voices, interpret...  ",
      "text/html": "<div>\n<style scoped>\n    .dataframe tbody tr th:only-of-type {\n        vertical-align: middle;\n    }\n\n    .dataframe tbody tr th {\n        vertical-align: top;\n    }\n\n    .dataframe thead th {\n        text-align: right;\n    }\n</style>\n<table border=\"1\" class=\"dataframe\">\n  <thead>\n    <tr style=\"text-align: right;\">\n      <th></th>\n      <th>MovieID</th>\n      <th>Title</th>\n      <th>MPAA Rating</th>\n      <th>Budget</th>\n      <th>Gross</th>\n      <th>Release Date</th>\n      <th>Genre</th>\n      <th>Release year</th>\n      <th>Runtime</th>\n      <th>Rating</th>\n      <th>Rating Count</th>\n      <th>Summary</th>\n    </tr>\n  </thead>\n  <tbody>\n    <tr>\n      <th>0</th>\n      <td>1</td>\n      <td>Look Who's Talking</td>\n      <td>PG-13</td>\n      <td>7500000.0</td>\n      <td>296000000.0</td>\n      <td>1989-10-12</td>\n      <td>Romance</td>\n      <td>1989</td>\n      <td>93.0</td>\n      <td>5.9</td>\n      <td>73638.0</td>\n      <td>After a single, career-minded woman is left on...</td>\n    </tr>\n    <tr>\n      <th>1</th>\n      <td>2</td>\n      <td>Driving Miss Daisy</td>\n      <td>PG</td>\n      <td>7500000.0</td>\n      <td>145793296.0</td>\n      <td>1989-12-13</td>\n      <td>Comedy</td>\n      <td>1989</td>\n      <td>99.0</td>\n      <td>7.4</td>\n      <td>91075.0</td>\n      <td>An old Jewish woman and her African-American c...</td>\n    </tr>\n    <tr>\n      <th>2</th>\n      <td>3</td>\n      <td>Turner &amp; Hooch</td>\n      <td>PG</td>\n      <td>13000000.0</td>\n      <td>71079915.0</td>\n      <td>1989-07-28</td>\n      <td>Crime</td>\n      <td>1989</td>\n      <td>100.0</td>\n      <td>7.2</td>\n      <td>91415.0</td>\n      <td>Det. Scott Turner (Tom Hanks) is an uptight, b...</td>\n    </tr>\n    <tr>\n      <th>3</th>\n      <td>4</td>\n      <td>Born on the Fourth of July</td>\n      <td>R</td>\n      <td>14000000.0</td>\n      <td>161001698.0</td>\n      <td>1989-12-20</td>\n      <td>War</td>\n      <td>1989</td>\n      <td>145.0</td>\n      <td>7.2</td>\n      <td>91415.0</td>\n      <td>The biography of Ron Kovic. Paralyzed in the V...</td>\n    </tr>\n    <tr>\n      <th>4</th>\n      <td>5</td>\n      <td>Field of Dreams</td>\n      <td>PG</td>\n      <td>15000000.0</td>\n      <td>84431625.0</td>\n      <td>1989-04-21</td>\n      <td>Drama</td>\n      <td>1989</td>\n      <td>107.0</td>\n      <td>7.5</td>\n      <td>101702.0</td>\n      <td>An Iowa corn farmer, hearing voices, interpret...</td>\n    </tr>\n  </tbody>\n</table>\n</div>"
     },
     "metadata": {},
     "output_type": "display_data"
    },
    {
     "data": {
      "text/plain": "MovieID           int64\nTitle            object\nMPAA Rating      object\nBudget          float64\nGross           float64\nRelease Date     object\nGenre            object\nRelease year      int64\nRuntime         float64\nRating          float64\nRating Count    float64\nSummary          object\ndtype: object"
     },
     "metadata": {},
     "output_type": "display_data"
    }
   ],
   "source": [
    "# import movies\n",
    "movies = pd.read_csv('movies.csv')\n",
    "\n",
    "# remove the empty line\n",
    "movies = movies.dropna(thresh=9)\n",
    "\n",
    "display(movies.head())\n",
    "display(movies.dtypes)"
   ],
   "metadata": {
    "collapsed": false
   }
  },
  {
   "cell_type": "code",
   "execution_count": 4,
   "outputs": [
    {
     "data": {
      "text/plain": "    Year  Inflation Rate  Annual Change  Value of dollar\n36  2017          2.1920           0.64              NaN\n37  2018          2.4387           0.25              NaN\n38  2019          2.1869          -0.25              NaN\n39  2020          1.9210          -0.27              NaN\n40  2021          3.4236           1.50              NaN",
      "text/html": "<div>\n<style scoped>\n    .dataframe tbody tr th:only-of-type {\n        vertical-align: middle;\n    }\n\n    .dataframe tbody tr th {\n        vertical-align: top;\n    }\n\n    .dataframe thead th {\n        text-align: right;\n    }\n</style>\n<table border=\"1\" class=\"dataframe\">\n  <thead>\n    <tr style=\"text-align: right;\">\n      <th></th>\n      <th>Year</th>\n      <th>Inflation Rate</th>\n      <th>Annual Change</th>\n      <th>Value of dollar</th>\n    </tr>\n  </thead>\n  <tbody>\n    <tr>\n      <th>36</th>\n      <td>2017</td>\n      <td>2.1920</td>\n      <td>0.64</td>\n      <td>NaN</td>\n    </tr>\n    <tr>\n      <th>37</th>\n      <td>2018</td>\n      <td>2.4387</td>\n      <td>0.25</td>\n      <td>NaN</td>\n    </tr>\n    <tr>\n      <th>38</th>\n      <td>2019</td>\n      <td>2.1869</td>\n      <td>-0.25</td>\n      <td>NaN</td>\n    </tr>\n    <tr>\n      <th>39</th>\n      <td>2020</td>\n      <td>1.9210</td>\n      <td>-0.27</td>\n      <td>NaN</td>\n    </tr>\n    <tr>\n      <th>40</th>\n      <td>2021</td>\n      <td>3.4236</td>\n      <td>1.50</td>\n      <td>NaN</td>\n    </tr>\n  </tbody>\n</table>\n</div>"
     },
     "metadata": {},
     "output_type": "display_data"
    },
    {
     "data": {
      "text/plain": "Year                 int64\nInflation Rate     float64\nAnnual Change      float64\nValue of dollar    float64\ndtype: object"
     },
     "metadata": {},
     "output_type": "display_data"
    }
   ],
   "source": [
    "#import inflation rate\n",
    "inf = pd.read_csv('world-inflation-rate-cpi.csv')\n",
    "\n",
    "display(inf.tail())\n",
    "display(inf.dtypes)"
   ],
   "metadata": {
    "collapsed": false
   }
  },
  {
   "cell_type": "code",
   "execution_count": 5,
   "outputs": [
    {
     "data": {
      "text/plain": "    Year  Inflation Rate  Annual Change  Value of dollar\n0   1981         12.4716            NaN         7.973794\n1   1982         10.2403          -2.23         7.089606\n2   1983          8.7711          -1.47         6.431048\n3   1984          8.1164          -0.65         5.912460\n4   1985          6.8568          -1.26         5.468606\n5   1986          5.8227          -1.03         5.117696\n6   1987          5.7565          -0.07         4.836104\n7   1988          7.1461           1.39         4.572867\n8   1989          6.9991          -0.15         4.267880\n9   1990          8.1274           1.13         3.988706\n10  1991          8.9985           0.87         3.688895\n11  1992          7.7139          -1.28         3.384354\n12  1993          7.5054          -0.21         3.141984\n13  1994         10.3172           2.81         2.922629\n14  1995          9.1539          -1.16         2.649296\n15  1996          6.5510          -2.60         2.427120\n16  1997          5.5723          -0.98         2.277895\n17  1998          5.1102          -0.46         2.157664\n18  1999          3.0795          -2.03         2.052763\n19  2000          3.4945           0.42         1.991437\n20  2001          3.8383           0.34         1.924196\n21  2002          2.8344          -1.00         1.853070\n22  2003          3.0320           0.20         1.801994\n23  2004          3.3826           0.35         1.748965\n24  2005          4.1122           0.73         1.691741\n25  2006          4.2824           0.17         1.624921\n26  2007          4.8168           0.53         1.558192\n27  2008          8.9530           4.14         1.486587\n28  2009          2.9362          -6.02         1.364429\n29  2010          3.3548           0.42         1.325510\n30  2011          4.8224           1.47         1.282485\n31  2012          3.7253          -1.10         1.223484\n32  2013          2.6211          -1.10         1.179542\n33  2014          2.3463          -0.27         1.149415\n34  2015          1.4343          -0.91         1.123064\n35  2016          1.5500           0.12         1.107184\n36  2017          2.1920           0.64         1.090285\n37  2018          2.4387           0.25         1.066898\n38  2019          2.1869          -0.25         1.041499\n39  2020          1.9210          -0.27         1.019210\n40  2021          3.4236           1.50         1.000000",
      "text/html": "<div>\n<style scoped>\n    .dataframe tbody tr th:only-of-type {\n        vertical-align: middle;\n    }\n\n    .dataframe tbody tr th {\n        vertical-align: top;\n    }\n\n    .dataframe thead th {\n        text-align: right;\n    }\n</style>\n<table border=\"1\" class=\"dataframe\">\n  <thead>\n    <tr style=\"text-align: right;\">\n      <th></th>\n      <th>Year</th>\n      <th>Inflation Rate</th>\n      <th>Annual Change</th>\n      <th>Value of dollar</th>\n    </tr>\n  </thead>\n  <tbody>\n    <tr>\n      <th>0</th>\n      <td>1981</td>\n      <td>12.4716</td>\n      <td>NaN</td>\n      <td>7.973794</td>\n    </tr>\n    <tr>\n      <th>1</th>\n      <td>1982</td>\n      <td>10.2403</td>\n      <td>-2.23</td>\n      <td>7.089606</td>\n    </tr>\n    <tr>\n      <th>2</th>\n      <td>1983</td>\n      <td>8.7711</td>\n      <td>-1.47</td>\n      <td>6.431048</td>\n    </tr>\n    <tr>\n      <th>3</th>\n      <td>1984</td>\n      <td>8.1164</td>\n      <td>-0.65</td>\n      <td>5.912460</td>\n    </tr>\n    <tr>\n      <th>4</th>\n      <td>1985</td>\n      <td>6.8568</td>\n      <td>-1.26</td>\n      <td>5.468606</td>\n    </tr>\n    <tr>\n      <th>5</th>\n      <td>1986</td>\n      <td>5.8227</td>\n      <td>-1.03</td>\n      <td>5.117696</td>\n    </tr>\n    <tr>\n      <th>6</th>\n      <td>1987</td>\n      <td>5.7565</td>\n      <td>-0.07</td>\n      <td>4.836104</td>\n    </tr>\n    <tr>\n      <th>7</th>\n      <td>1988</td>\n      <td>7.1461</td>\n      <td>1.39</td>\n      <td>4.572867</td>\n    </tr>\n    <tr>\n      <th>8</th>\n      <td>1989</td>\n      <td>6.9991</td>\n      <td>-0.15</td>\n      <td>4.267880</td>\n    </tr>\n    <tr>\n      <th>9</th>\n      <td>1990</td>\n      <td>8.1274</td>\n      <td>1.13</td>\n      <td>3.988706</td>\n    </tr>\n    <tr>\n      <th>10</th>\n      <td>1991</td>\n      <td>8.9985</td>\n      <td>0.87</td>\n      <td>3.688895</td>\n    </tr>\n    <tr>\n      <th>11</th>\n      <td>1992</td>\n      <td>7.7139</td>\n      <td>-1.28</td>\n      <td>3.384354</td>\n    </tr>\n    <tr>\n      <th>12</th>\n      <td>1993</td>\n      <td>7.5054</td>\n      <td>-0.21</td>\n      <td>3.141984</td>\n    </tr>\n    <tr>\n      <th>13</th>\n      <td>1994</td>\n      <td>10.3172</td>\n      <td>2.81</td>\n      <td>2.922629</td>\n    </tr>\n    <tr>\n      <th>14</th>\n      <td>1995</td>\n      <td>9.1539</td>\n      <td>-1.16</td>\n      <td>2.649296</td>\n    </tr>\n    <tr>\n      <th>15</th>\n      <td>1996</td>\n      <td>6.5510</td>\n      <td>-2.60</td>\n      <td>2.427120</td>\n    </tr>\n    <tr>\n      <th>16</th>\n      <td>1997</td>\n      <td>5.5723</td>\n      <td>-0.98</td>\n      <td>2.277895</td>\n    </tr>\n    <tr>\n      <th>17</th>\n      <td>1998</td>\n      <td>5.1102</td>\n      <td>-0.46</td>\n      <td>2.157664</td>\n    </tr>\n    <tr>\n      <th>18</th>\n      <td>1999</td>\n      <td>3.0795</td>\n      <td>-2.03</td>\n      <td>2.052763</td>\n    </tr>\n    <tr>\n      <th>19</th>\n      <td>2000</td>\n      <td>3.4945</td>\n      <td>0.42</td>\n      <td>1.991437</td>\n    </tr>\n    <tr>\n      <th>20</th>\n      <td>2001</td>\n      <td>3.8383</td>\n      <td>0.34</td>\n      <td>1.924196</td>\n    </tr>\n    <tr>\n      <th>21</th>\n      <td>2002</td>\n      <td>2.8344</td>\n      <td>-1.00</td>\n      <td>1.853070</td>\n    </tr>\n    <tr>\n      <th>22</th>\n      <td>2003</td>\n      <td>3.0320</td>\n      <td>0.20</td>\n      <td>1.801994</td>\n    </tr>\n    <tr>\n      <th>23</th>\n      <td>2004</td>\n      <td>3.3826</td>\n      <td>0.35</td>\n      <td>1.748965</td>\n    </tr>\n    <tr>\n      <th>24</th>\n      <td>2005</td>\n      <td>4.1122</td>\n      <td>0.73</td>\n      <td>1.691741</td>\n    </tr>\n    <tr>\n      <th>25</th>\n      <td>2006</td>\n      <td>4.2824</td>\n      <td>0.17</td>\n      <td>1.624921</td>\n    </tr>\n    <tr>\n      <th>26</th>\n      <td>2007</td>\n      <td>4.8168</td>\n      <td>0.53</td>\n      <td>1.558192</td>\n    </tr>\n    <tr>\n      <th>27</th>\n      <td>2008</td>\n      <td>8.9530</td>\n      <td>4.14</td>\n      <td>1.486587</td>\n    </tr>\n    <tr>\n      <th>28</th>\n      <td>2009</td>\n      <td>2.9362</td>\n      <td>-6.02</td>\n      <td>1.364429</td>\n    </tr>\n    <tr>\n      <th>29</th>\n      <td>2010</td>\n      <td>3.3548</td>\n      <td>0.42</td>\n      <td>1.325510</td>\n    </tr>\n    <tr>\n      <th>30</th>\n      <td>2011</td>\n      <td>4.8224</td>\n      <td>1.47</td>\n      <td>1.282485</td>\n    </tr>\n    <tr>\n      <th>31</th>\n      <td>2012</td>\n      <td>3.7253</td>\n      <td>-1.10</td>\n      <td>1.223484</td>\n    </tr>\n    <tr>\n      <th>32</th>\n      <td>2013</td>\n      <td>2.6211</td>\n      <td>-1.10</td>\n      <td>1.179542</td>\n    </tr>\n    <tr>\n      <th>33</th>\n      <td>2014</td>\n      <td>2.3463</td>\n      <td>-0.27</td>\n      <td>1.149415</td>\n    </tr>\n    <tr>\n      <th>34</th>\n      <td>2015</td>\n      <td>1.4343</td>\n      <td>-0.91</td>\n      <td>1.123064</td>\n    </tr>\n    <tr>\n      <th>35</th>\n      <td>2016</td>\n      <td>1.5500</td>\n      <td>0.12</td>\n      <td>1.107184</td>\n    </tr>\n    <tr>\n      <th>36</th>\n      <td>2017</td>\n      <td>2.1920</td>\n      <td>0.64</td>\n      <td>1.090285</td>\n    </tr>\n    <tr>\n      <th>37</th>\n      <td>2018</td>\n      <td>2.4387</td>\n      <td>0.25</td>\n      <td>1.066898</td>\n    </tr>\n    <tr>\n      <th>38</th>\n      <td>2019</td>\n      <td>2.1869</td>\n      <td>-0.25</td>\n      <td>1.041499</td>\n    </tr>\n    <tr>\n      <th>39</th>\n      <td>2020</td>\n      <td>1.9210</td>\n      <td>-0.27</td>\n      <td>1.019210</td>\n    </tr>\n    <tr>\n      <th>40</th>\n      <td>2021</td>\n      <td>3.4236</td>\n      <td>1.50</td>\n      <td>1.000000</td>\n    </tr>\n  </tbody>\n</table>\n</div>"
     },
     "metadata": {},
     "output_type": "display_data"
    }
   ],
   "source": [
    "# calculate value of dollar for every year, compared to previous year\n",
    "for i, row in inf.iloc[::-1].iterrows():\n",
    "    if i+1 in inf.index:\n",
    "        prev_year = inf.loc[i+1]\n",
    "        inf.loc[i, 'Value of dollar'] = prev_year['Value of dollar'] + (prev_year['Value of dollar'] * row['Inflation Rate'] / 100)\n",
    "    else:\n",
    "        inf.loc[i, 'Value of dollar'] = 1\n",
    "\n",
    "display(inf)"
   ],
   "metadata": {
    "collapsed": false
   }
  },
  {
   "cell_type": "code",
   "execution_count": 6,
   "outputs": [
    {
     "data": {
      "text/plain": "                                            Title  Release year       Budget  \\\n610                                 Black Panther          2018  200000000.0   \n611                                 Incredibles 2          2018  200000000.0   \n612  Fantanstic Beasts: The Crimes of Grindelwald          2018  200000000.0   \n613                       Solo: A Star Wars Story          2018  275000000.0   \n614                        Avengers: Infinity War          2018  400000000.0   \n\n            Gross  Value of dollar  \n610  1.347000e+09         1.066898  \n611  1.242000e+09         1.066898  \n612  6.538000e+08         1.066898  \n613  3.929000e+08         1.066898  \n614  2.048000e+09         1.066898  ",
      "text/html": "<div>\n<style scoped>\n    .dataframe tbody tr th:only-of-type {\n        vertical-align: middle;\n    }\n\n    .dataframe tbody tr th {\n        vertical-align: top;\n    }\n\n    .dataframe thead th {\n        text-align: right;\n    }\n</style>\n<table border=\"1\" class=\"dataframe\">\n  <thead>\n    <tr style=\"text-align: right;\">\n      <th></th>\n      <th>Title</th>\n      <th>Release year</th>\n      <th>Budget</th>\n      <th>Gross</th>\n      <th>Value of dollar</th>\n    </tr>\n  </thead>\n  <tbody>\n    <tr>\n      <th>610</th>\n      <td>Black Panther</td>\n      <td>2018</td>\n      <td>200000000.0</td>\n      <td>1.347000e+09</td>\n      <td>1.066898</td>\n    </tr>\n    <tr>\n      <th>611</th>\n      <td>Incredibles 2</td>\n      <td>2018</td>\n      <td>200000000.0</td>\n      <td>1.242000e+09</td>\n      <td>1.066898</td>\n    </tr>\n    <tr>\n      <th>612</th>\n      <td>Fantanstic Beasts: The Crimes of Grindelwald</td>\n      <td>2018</td>\n      <td>200000000.0</td>\n      <td>6.538000e+08</td>\n      <td>1.066898</td>\n    </tr>\n    <tr>\n      <th>613</th>\n      <td>Solo: A Star Wars Story</td>\n      <td>2018</td>\n      <td>275000000.0</td>\n      <td>3.929000e+08</td>\n      <td>1.066898</td>\n    </tr>\n    <tr>\n      <th>614</th>\n      <td>Avengers: Infinity War</td>\n      <td>2018</td>\n      <td>400000000.0</td>\n      <td>2.048000e+09</td>\n      <td>1.066898</td>\n    </tr>\n  </tbody>\n</table>\n</div>"
     },
     "metadata": {},
     "output_type": "display_data"
    },
    {
     "data": {
      "text/plain": "                                            Title  Release year     Budget  \\\n610                                 Black Panther          2018  213379628   \n611                                 Incredibles 2          2018  213379628   \n612  Fantanstic Beasts: The Crimes of Grindelwald          2018  213379628   \n613                       Solo: A Star Wars Story          2018  293396989   \n614                        Avengers: Infinity War          2018  426759256   \n\n          Gross  Value of dollar  \n610  1437111797         1.066898  \n611  1325087492         1.066898  \n612   697538005         1.066898  \n613   419184280         1.066898  \n614  2185007395         1.066898  ",
      "text/html": "<div>\n<style scoped>\n    .dataframe tbody tr th:only-of-type {\n        vertical-align: middle;\n    }\n\n    .dataframe tbody tr th {\n        vertical-align: top;\n    }\n\n    .dataframe thead th {\n        text-align: right;\n    }\n</style>\n<table border=\"1\" class=\"dataframe\">\n  <thead>\n    <tr style=\"text-align: right;\">\n      <th></th>\n      <th>Title</th>\n      <th>Release year</th>\n      <th>Budget</th>\n      <th>Gross</th>\n      <th>Value of dollar</th>\n    </tr>\n  </thead>\n  <tbody>\n    <tr>\n      <th>610</th>\n      <td>Black Panther</td>\n      <td>2018</td>\n      <td>213379628</td>\n      <td>1437111797</td>\n      <td>1.066898</td>\n    </tr>\n    <tr>\n      <th>611</th>\n      <td>Incredibles 2</td>\n      <td>2018</td>\n      <td>213379628</td>\n      <td>1325087492</td>\n      <td>1.066898</td>\n    </tr>\n    <tr>\n      <th>612</th>\n      <td>Fantanstic Beasts: The Crimes of Grindelwald</td>\n      <td>2018</td>\n      <td>213379628</td>\n      <td>697538005</td>\n      <td>1.066898</td>\n    </tr>\n    <tr>\n      <th>613</th>\n      <td>Solo: A Star Wars Story</td>\n      <td>2018</td>\n      <td>293396989</td>\n      <td>419184280</td>\n      <td>1.066898</td>\n    </tr>\n    <tr>\n      <th>614</th>\n      <td>Avengers: Infinity War</td>\n      <td>2018</td>\n      <td>426759256</td>\n      <td>2185007395</td>\n      <td>1.066898</td>\n    </tr>\n  </tbody>\n</table>\n</div>"
     },
     "metadata": {},
     "output_type": "display_data"
    }
   ],
   "source": [
    "# merge 2 datasets\n",
    "movies = movies.merge(inf[['Year', 'Value of dollar']], left_on='Release year', right_on='Year')\n",
    "\n",
    "# before\n",
    "display(movies[['Title', 'Release year', 'Budget', 'Gross', 'Value of dollar']].tail())\n",
    "\n",
    "# adjust budget and gross\n",
    "movies['Budget'] = movies['Budget'] * movies['Value of dollar']\n",
    "movies['Gross'] = movies['Gross'] * movies['Value of dollar']\n",
    "\n",
    "# round the values\n",
    "movies['Budget'].round()\n",
    "movies['Gross'].round()\n",
    "\n",
    "movies = movies.astype({'Budget': 'int', 'Gross': 'int'})\n",
    "\n",
    "#after\n",
    "display(movies[['Title', 'Release year', 'Budget', 'Gross', 'Value of dollar']].tail())"
   ],
   "metadata": {
    "collapsed": false
   }
  },
  {
   "cell_type": "code",
   "execution_count": 11,
   "outputs": [
    {
     "data": {
      "text/plain": "'The War of the Roses'"
     },
     "metadata": {},
     "output_type": "display_data"
    },
    {
     "data": {
      "text/plain": "'The War of the Roses'"
     },
     "metadata": {},
     "output_type": "display_data"
    }
   ],
   "source": [],
   "metadata": {
    "collapsed": false
   }
  },
  {
   "cell_type": "code",
   "execution_count": null,
   "outputs": [],
   "source": [],
   "metadata": {
    "collapsed": false
   }
  }
 ],
 "metadata": {
  "kernelspec": {
   "display_name": "Python 3",
   "language": "python",
   "name": "python3"
  },
  "language_info": {
   "codemirror_mode": {
    "name": "ipython",
    "version": 2
   },
   "file_extension": ".py",
   "mimetype": "text/x-python",
   "name": "python",
   "nbconvert_exporter": "python",
   "pygments_lexer": "ipython2",
   "version": "2.7.6"
  }
 },
 "nbformat": 4,
 "nbformat_minor": 0
}
