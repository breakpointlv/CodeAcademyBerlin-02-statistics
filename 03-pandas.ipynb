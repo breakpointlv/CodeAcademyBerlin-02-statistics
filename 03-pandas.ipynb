{
 "cells": [
  {
   "cell_type": "code",
   "execution_count": 55,
   "metadata": {
    "collapsed": true
   },
   "outputs": [
    {
     "data": {
      "text/plain": "'1.5.2'"
     },
     "execution_count": 55,
     "metadata": {},
     "output_type": "execute_result"
    }
   ],
   "source": [
    "import pandas as pd\n",
    "import numpy as np\n",
    "pd.__version__"
   ]
  },
  {
   "cell_type": "code",
   "execution_count": 20,
   "outputs": [
    {
     "name": "stdout",
     "output_type": "stream",
     "text": [
      "RangeIndex(start=0, stop=5, step=1)\n",
      "[1 2 3 4 5]\n",
      "0    1\n",
      "1    2\n",
      "2    3\n",
      "3    4\n",
      "4    5\n",
      "dtype: int64\n"
     ]
    }
   ],
   "source": [
    "data = pd.Series([1,2,3,4,5])\n",
    "print(data.index)\n",
    "print(data.values)\n",
    "print(data)"
   ],
   "metadata": {
    "collapsed": false
   }
  },
  {
   "cell_type": "code",
   "execution_count": 21,
   "outputs": [
    {
     "name": "stdout",
     "output_type": "stream",
     "text": [
      "Index(['a', 'b', 'c', 'd', 'e'], dtype='object')\n",
      "[1 2 3 4 5]\n",
      "a    1\n",
      "b    2\n",
      "c    3\n",
      "d    4\n",
      "e    5\n",
      "dtype: int64\n"
     ]
    }
   ],
   "source": [
    "data = pd.Series([1,2,3,4,5], index=['a', 'b', 'c', 'd', 'e'])\n",
    "print(data.index)\n",
    "print(data.values)\n",
    "print(data)"
   ],
   "metadata": {
    "collapsed": false
   }
  },
  {
   "cell_type": "code",
   "execution_count": 22,
   "outputs": [
    {
     "data": {
      "text/plain": "2"
     },
     "execution_count": 22,
     "metadata": {},
     "output_type": "execute_result"
    }
   ],
   "source": [
    "data['b']"
   ],
   "metadata": {
    "collapsed": false
   }
  },
  {
   "cell_type": "code",
   "execution_count": 74,
   "outputs": [
    {
     "name": "stdout",
     "output_type": "stream",
     "text": [
      "     MovieID                                  Title MPAA Rating     Budget  \\\n",
      "610      611         Godzilla: King of the Monsters       PG-13  200000000   \n",
      "611      612                            Toy Story 4           G  200000000   \n",
      "612      613  Fast & Furious Presents: Hobbs & Shaw       PG-13  200000000   \n",
      "613      614                          The Lion King          PG  250000000   \n",
      "614      615                      Avengers: Endgame       PG-13  356000000   \n",
      "\n",
      "          Gross Release Date      Genre  Release year  Runtime  Rating  \\\n",
      "610   385900000   2019-05-13  Adventure          2019    132.0     NaN   \n",
      "611  1062000000   2019-06-11  Animation          2019    100.0     NaN   \n",
      "612   759400000   2019-07-13   Thriller          2019    136.0     NaN   \n",
      "613  1632000000   2019-07-09      Drama          2019    118.0     NaN   \n",
      "614  2796000000   2019-04-22     Action          2019    181.0     NaN   \n",
      "\n",
      "     Rating Count Summary  \n",
      "610           NaN     NaN  \n",
      "611           NaN     NaN  \n",
      "612           NaN     NaN  \n",
      "613           NaN     NaN  \n",
      "614           NaN     NaN  \n"
     ]
    }
   ],
   "source": [
    "movies = pd.read_csv('movies.csv')\n",
    "# movies = movies[movies['Title'] != '']\n",
    "# movies = movies[movies['Title'].notnull()]\n",
    "movies = movies.dropna(thresh=9)\n",
    "\n",
    "movies = movies.astype({\n",
    "    'Release year': 'int',\n",
    "    'Gross': 'int',\n",
    "    'Budget': 'int'\n",
    "})\n",
    "print(movies.tail())\n",
    "# print(movies.dtypes)"
   ],
   "metadata": {
    "collapsed": false
   }
  },
  {
   "cell_type": "code",
   "execution_count": 24,
   "outputs": [
    {
     "name": "stdout",
     "output_type": "stream",
     "text": [
      "size 616\n",
      "shape 1\n",
      "dtype int64\n"
     ]
    }
   ],
   "source": [
    "print(\"size\", movies.index.size)\n",
    "print(\"shape\", movies.index.ndim)\n",
    "print(\"dtype\", movies.index.dtype)"
   ],
   "metadata": {
    "collapsed": false
   }
  },
  {
   "cell_type": "code",
   "execution_count": 25,
   "outputs": [
    {
     "data": {
      "text/plain": "Index(['MovieID', 'Title', 'MPAA Rating', 'Budget', 'Gross', 'Release Date',\n       'Genre', 'Release year', 'Runtime', 'Rating', 'Rating Count',\n       'Summary'],\n      dtype='object')"
     },
     "execution_count": 25,
     "metadata": {},
     "output_type": "execute_result"
    }
   ],
   "source": [
    "movies.keys()"
   ],
   "metadata": {
    "collapsed": false
   }
  },
  {
   "cell_type": "code",
   "execution_count": 37,
   "outputs": [
    {
     "data": {
      "text/plain": "98                  Jurassic Park III\n217    Crouching Tiger, Hidden Dragon\n218                       Scary Movie\n219                 Big Momma's House\n220               Remember the Titans\nName: Title, dtype: object"
     },
     "metadata": {},
     "output_type": "display_data"
    }
   ],
   "source": [
    "movies_after_2000 = movies[movies['Release year'] >= 2000].head()\n",
    "display(movies_after_2000.Title)"
   ],
   "metadata": {
    "collapsed": false
   }
  },
  {
   "cell_type": "code",
   "execution_count": 51,
   "outputs": [
    {
     "data": {
      "text/plain": "MovieID           int64\nTitle            object\nMPAA Rating      object\nBudget          float64\nGross           float64\nRelease Date     object\nGenre            object\nRelease year      int64\nRuntime         float64\nRating          float64\nRating Count    float64\nSummary          object\nAge               int64\ndtype: object"
     },
     "metadata": {},
     "output_type": "display_data"
    },
    {
     "data": {
      "text/plain": "                                     Title  Release year  Age\n0                       Look Who's Talking          1989   34\n1                       Driving Miss Daisy          1989   34\n2                           Turner & Hooch          1989   34\n3               Born on the Fourth of July          1989   34\n4                          Field of Dreams          1989   34\n..                                     ...           ...  ...\n611                            Toy Story 4          2019    4\n612  Fast & Furious Presents: Hobbs & Shaw          2019    4\n613                          The Lion King          2019    4\n614                      Avengers: Endgame          2019    4\n615                                    NaN          1899  124\n\n[616 rows x 3 columns]",
      "text/html": "<div>\n<style scoped>\n    .dataframe tbody tr th:only-of-type {\n        vertical-align: middle;\n    }\n\n    .dataframe tbody tr th {\n        vertical-align: top;\n    }\n\n    .dataframe thead th {\n        text-align: right;\n    }\n</style>\n<table border=\"1\" class=\"dataframe\">\n  <thead>\n    <tr style=\"text-align: right;\">\n      <th></th>\n      <th>Title</th>\n      <th>Release year</th>\n      <th>Age</th>\n    </tr>\n  </thead>\n  <tbody>\n    <tr>\n      <th>0</th>\n      <td>Look Who's Talking</td>\n      <td>1989</td>\n      <td>34</td>\n    </tr>\n    <tr>\n      <th>1</th>\n      <td>Driving Miss Daisy</td>\n      <td>1989</td>\n      <td>34</td>\n    </tr>\n    <tr>\n      <th>2</th>\n      <td>Turner &amp; Hooch</td>\n      <td>1989</td>\n      <td>34</td>\n    </tr>\n    <tr>\n      <th>3</th>\n      <td>Born on the Fourth of July</td>\n      <td>1989</td>\n      <td>34</td>\n    </tr>\n    <tr>\n      <th>4</th>\n      <td>Field of Dreams</td>\n      <td>1989</td>\n      <td>34</td>\n    </tr>\n    <tr>\n      <th>...</th>\n      <td>...</td>\n      <td>...</td>\n      <td>...</td>\n    </tr>\n    <tr>\n      <th>611</th>\n      <td>Toy Story 4</td>\n      <td>2019</td>\n      <td>4</td>\n    </tr>\n    <tr>\n      <th>612</th>\n      <td>Fast &amp; Furious Presents: Hobbs &amp; Shaw</td>\n      <td>2019</td>\n      <td>4</td>\n    </tr>\n    <tr>\n      <th>613</th>\n      <td>The Lion King</td>\n      <td>2019</td>\n      <td>4</td>\n    </tr>\n    <tr>\n      <th>614</th>\n      <td>Avengers: Endgame</td>\n      <td>2019</td>\n      <td>4</td>\n    </tr>\n    <tr>\n      <th>615</th>\n      <td>NaN</td>\n      <td>1899</td>\n      <td>124</td>\n    </tr>\n  </tbody>\n</table>\n<p>616 rows × 3 columns</p>\n</div>"
     },
     "metadata": {},
     "output_type": "display_data"
    }
   ],
   "source": [
    "import datetime\n",
    "movies['Age'] = datetime.datetime.today().year - movies['Release year']\n",
    "movies = movies.astype({'Age': 'int'})\n",
    "display(movies.dtypes)\n",
    "display(movies[['Title', 'Release year', 'Age']])"
   ],
   "metadata": {
    "collapsed": false
   }
  },
  {
   "cell_type": "code",
   "execution_count": 42,
   "outputs": [
    {
     "data": {
      "text/plain": "array([15, 'Ghostbusters II', 'PG', 37000000.0, 215394738.0, '1989-06-15',\n       'Comedy', 1989, 108.0, 6.6, 171196.0,\n       'The discovery of a massive river of ectoplasm and a resurgence of spectral activity allows the staff of Ghostbusters to revive the business.',\n       34], dtype=object)"
     },
     "execution_count": 42,
     "metadata": {},
     "output_type": "execute_result"
    }
   ],
   "source": [
    "movies.values[14]"
   ],
   "metadata": {
    "collapsed": false
   }
  },
  {
   "cell_type": "code",
   "execution_count": 43,
   "outputs": [
    {
     "data": {
      "text/plain": "   MovieID               Title\n0        1  Look Who's Talking\n1        2  Driving Miss Daisy\n2        3      Turner & Hooch",
      "text/html": "<div>\n<style scoped>\n    .dataframe tbody tr th:only-of-type {\n        vertical-align: middle;\n    }\n\n    .dataframe tbody tr th {\n        vertical-align: top;\n    }\n\n    .dataframe thead th {\n        text-align: right;\n    }\n</style>\n<table border=\"1\" class=\"dataframe\">\n  <thead>\n    <tr style=\"text-align: right;\">\n      <th></th>\n      <th>MovieID</th>\n      <th>Title</th>\n    </tr>\n  </thead>\n  <tbody>\n    <tr>\n      <th>0</th>\n      <td>1</td>\n      <td>Look Who's Talking</td>\n    </tr>\n    <tr>\n      <th>1</th>\n      <td>2</td>\n      <td>Driving Miss Daisy</td>\n    </tr>\n    <tr>\n      <th>2</th>\n      <td>3</td>\n      <td>Turner &amp; Hooch</td>\n    </tr>\n  </tbody>\n</table>\n</div>"
     },
     "metadata": {},
     "output_type": "display_data"
    }
   ],
   "source": [
    "display(movies.iloc[:3, :2])"
   ],
   "metadata": {
    "collapsed": false
   }
  },
  {
   "cell_type": "code",
   "execution_count": 45,
   "outputs": [
    {
     "data": {
      "text/plain": "Budget          55000000.0\nGross           63408614.0\nRelease Date    1989-12-22\nName: 18, dtype: object"
     },
     "metadata": {},
     "output_type": "display_data"
    }
   ],
   "source": [
    "display(movies.loc[18, 'Budget':'Release Date'])"
   ],
   "metadata": {
    "collapsed": false
   }
  },
  {
   "cell_type": "code",
   "execution_count": 52,
   "outputs": [
    {
     "data": {
      "text/plain": "                                     Title       Budget\n296                        Fahrenheit 9/11    6000000.0\n297       DodgeBall: A True Underdog Story   20000000.0\n298              The Passion of the Christ   30000000.0\n299                            The Village   60000000.0\n300                         50 First Dates   75000000.0\n..                                     ...          ...\n610         Godzilla: King of the Monsters  200000000.0\n611                            Toy Story 4  200000000.0\n612  Fast & Furious Presents: Hobbs & Shaw  200000000.0\n613                          The Lion King  250000000.0\n614                      Avengers: Endgame  356000000.0\n\n[319 rows x 2 columns]",
      "text/html": "<div>\n<style scoped>\n    .dataframe tbody tr th:only-of-type {\n        vertical-align: middle;\n    }\n\n    .dataframe tbody tr th {\n        vertical-align: top;\n    }\n\n    .dataframe thead th {\n        text-align: right;\n    }\n</style>\n<table border=\"1\" class=\"dataframe\">\n  <thead>\n    <tr style=\"text-align: right;\">\n      <th></th>\n      <th>Title</th>\n      <th>Budget</th>\n    </tr>\n  </thead>\n  <tbody>\n    <tr>\n      <th>296</th>\n      <td>Fahrenheit 9/11</td>\n      <td>6000000.0</td>\n    </tr>\n    <tr>\n      <th>297</th>\n      <td>DodgeBall: A True Underdog Story</td>\n      <td>20000000.0</td>\n    </tr>\n    <tr>\n      <th>298</th>\n      <td>The Passion of the Christ</td>\n      <td>30000000.0</td>\n    </tr>\n    <tr>\n      <th>299</th>\n      <td>The Village</td>\n      <td>60000000.0</td>\n    </tr>\n    <tr>\n      <th>300</th>\n      <td>50 First Dates</td>\n      <td>75000000.0</td>\n    </tr>\n    <tr>\n      <th>...</th>\n      <td>...</td>\n      <td>...</td>\n    </tr>\n    <tr>\n      <th>610</th>\n      <td>Godzilla: King of the Monsters</td>\n      <td>200000000.0</td>\n    </tr>\n    <tr>\n      <th>611</th>\n      <td>Toy Story 4</td>\n      <td>200000000.0</td>\n    </tr>\n    <tr>\n      <th>612</th>\n      <td>Fast &amp; Furious Presents: Hobbs &amp; Shaw</td>\n      <td>200000000.0</td>\n    </tr>\n    <tr>\n      <th>613</th>\n      <td>The Lion King</td>\n      <td>250000000.0</td>\n    </tr>\n    <tr>\n      <th>614</th>\n      <td>Avengers: Endgame</td>\n      <td>356000000.0</td>\n    </tr>\n  </tbody>\n</table>\n<p>319 rows × 2 columns</p>\n</div>"
     },
     "execution_count": 52,
     "metadata": {},
     "output_type": "execute_result"
    }
   ],
   "source": [
    "movies.loc[movies['Age'] < 20, ['Title', 'Budget']]"
   ],
   "metadata": {
    "collapsed": false
   }
  },
  {
   "cell_type": "code",
   "execution_count": 65,
   "outputs": [
    {
     "data": {
      "text/plain": "0       288500000\n1       138293296\n2        58079915\n3       147001698\n4        69431625\n          ...    \n610     185900000\n611     862000000\n612     559400000\n613    1382000000\n614    2440000000\nName: Profit, Length: 615, dtype: int64"
     },
     "metadata": {},
     "output_type": "display_data"
    }
   ],
   "source": [
    "movies['Profit'] = movies['Gross'] - movies['Budget']\n",
    "display(movies['Profit'])"
   ],
   "metadata": {
    "collapsed": false
   }
  },
  {
   "cell_type": "code",
   "execution_count": 75,
   "outputs": [
    {
     "ename": "ValueError",
     "evalue": "Length of values (0) does not match length of index (615)",
     "output_type": "error",
     "traceback": [
      "\u001B[0;31m---------------------------------------------------------------------------\u001B[0m",
      "\u001B[0;31mValueError\u001B[0m                                Traceback (most recent call last)",
      "Cell \u001B[0;32mIn[75], line 1\u001B[0m\n\u001B[0;32m----> 1\u001B[0m movies[\u001B[38;5;124m'\u001B[39m\u001B[38;5;124mactors\u001B[39m\u001B[38;5;124m'\u001B[39m] \u001B[38;5;241m=\u001B[39m []\n",
      "File \u001B[0;32m~/anaconda3/envs/env310/lib/python3.10/site-packages/pandas/core/frame.py:3978\u001B[0m, in \u001B[0;36mDataFrame.__setitem__\u001B[0;34m(self, key, value)\u001B[0m\n\u001B[1;32m   3975\u001B[0m     \u001B[38;5;28mself\u001B[39m\u001B[38;5;241m.\u001B[39m_setitem_array([key], value)\n\u001B[1;32m   3976\u001B[0m \u001B[38;5;28;01melse\u001B[39;00m:\n\u001B[1;32m   3977\u001B[0m     \u001B[38;5;66;03m# set column\u001B[39;00m\n\u001B[0;32m-> 3978\u001B[0m     \u001B[38;5;28;43mself\u001B[39;49m\u001B[38;5;241;43m.\u001B[39;49m\u001B[43m_set_item\u001B[49m\u001B[43m(\u001B[49m\u001B[43mkey\u001B[49m\u001B[43m,\u001B[49m\u001B[43m \u001B[49m\u001B[43mvalue\u001B[49m\u001B[43m)\u001B[49m\n",
      "File \u001B[0;32m~/anaconda3/envs/env310/lib/python3.10/site-packages/pandas/core/frame.py:4172\u001B[0m, in \u001B[0;36mDataFrame._set_item\u001B[0;34m(self, key, value)\u001B[0m\n\u001B[1;32m   4162\u001B[0m \u001B[38;5;28;01mdef\u001B[39;00m \u001B[38;5;21m_set_item\u001B[39m(\u001B[38;5;28mself\u001B[39m, key, value) \u001B[38;5;241m-\u001B[39m\u001B[38;5;241m>\u001B[39m \u001B[38;5;28;01mNone\u001B[39;00m:\n\u001B[1;32m   4163\u001B[0m     \u001B[38;5;124;03m\"\"\"\u001B[39;00m\n\u001B[1;32m   4164\u001B[0m \u001B[38;5;124;03m    Add series to DataFrame in specified column.\u001B[39;00m\n\u001B[1;32m   4165\u001B[0m \n\u001B[0;32m   (...)\u001B[0m\n\u001B[1;32m   4170\u001B[0m \u001B[38;5;124;03m    ensure homogeneity.\u001B[39;00m\n\u001B[1;32m   4171\u001B[0m \u001B[38;5;124;03m    \"\"\"\u001B[39;00m\n\u001B[0;32m-> 4172\u001B[0m     value \u001B[38;5;241m=\u001B[39m \u001B[38;5;28;43mself\u001B[39;49m\u001B[38;5;241;43m.\u001B[39;49m\u001B[43m_sanitize_column\u001B[49m\u001B[43m(\u001B[49m\u001B[43mvalue\u001B[49m\u001B[43m)\u001B[49m\n\u001B[1;32m   4174\u001B[0m     \u001B[38;5;28;01mif\u001B[39;00m (\n\u001B[1;32m   4175\u001B[0m         key \u001B[38;5;129;01min\u001B[39;00m \u001B[38;5;28mself\u001B[39m\u001B[38;5;241m.\u001B[39mcolumns\n\u001B[1;32m   4176\u001B[0m         \u001B[38;5;129;01mand\u001B[39;00m value\u001B[38;5;241m.\u001B[39mndim \u001B[38;5;241m==\u001B[39m \u001B[38;5;241m1\u001B[39m\n\u001B[1;32m   4177\u001B[0m         \u001B[38;5;129;01mand\u001B[39;00m \u001B[38;5;129;01mnot\u001B[39;00m is_extension_array_dtype(value)\n\u001B[1;32m   4178\u001B[0m     ):\n\u001B[1;32m   4179\u001B[0m         \u001B[38;5;66;03m# broadcast across multiple columns if necessary\u001B[39;00m\n\u001B[1;32m   4180\u001B[0m         \u001B[38;5;28;01mif\u001B[39;00m \u001B[38;5;129;01mnot\u001B[39;00m \u001B[38;5;28mself\u001B[39m\u001B[38;5;241m.\u001B[39mcolumns\u001B[38;5;241m.\u001B[39mis_unique \u001B[38;5;129;01mor\u001B[39;00m \u001B[38;5;28misinstance\u001B[39m(\u001B[38;5;28mself\u001B[39m\u001B[38;5;241m.\u001B[39mcolumns, MultiIndex):\n",
      "File \u001B[0;32m~/anaconda3/envs/env310/lib/python3.10/site-packages/pandas/core/frame.py:4912\u001B[0m, in \u001B[0;36mDataFrame._sanitize_column\u001B[0;34m(self, value)\u001B[0m\n\u001B[1;32m   4909\u001B[0m     \u001B[38;5;28;01mreturn\u001B[39;00m _reindex_for_setitem(Series(value), \u001B[38;5;28mself\u001B[39m\u001B[38;5;241m.\u001B[39mindex)\n\u001B[1;32m   4911\u001B[0m \u001B[38;5;28;01mif\u001B[39;00m is_list_like(value):\n\u001B[0;32m-> 4912\u001B[0m     \u001B[43mcom\u001B[49m\u001B[38;5;241;43m.\u001B[39;49m\u001B[43mrequire_length_match\u001B[49m\u001B[43m(\u001B[49m\u001B[43mvalue\u001B[49m\u001B[43m,\u001B[49m\u001B[43m \u001B[49m\u001B[38;5;28;43mself\u001B[39;49m\u001B[38;5;241;43m.\u001B[39;49m\u001B[43mindex\u001B[49m\u001B[43m)\u001B[49m\n\u001B[1;32m   4913\u001B[0m \u001B[38;5;28;01mreturn\u001B[39;00m sanitize_array(value, \u001B[38;5;28mself\u001B[39m\u001B[38;5;241m.\u001B[39mindex, copy\u001B[38;5;241m=\u001B[39m\u001B[38;5;28;01mTrue\u001B[39;00m, allow_2d\u001B[38;5;241m=\u001B[39m\u001B[38;5;28;01mTrue\u001B[39;00m)\n",
      "File \u001B[0;32m~/anaconda3/envs/env310/lib/python3.10/site-packages/pandas/core/common.py:561\u001B[0m, in \u001B[0;36mrequire_length_match\u001B[0;34m(data, index)\u001B[0m\n\u001B[1;32m    557\u001B[0m \u001B[38;5;124;03m\"\"\"\u001B[39;00m\n\u001B[1;32m    558\u001B[0m \u001B[38;5;124;03mCheck the length of data matches the length of the index.\u001B[39;00m\n\u001B[1;32m    559\u001B[0m \u001B[38;5;124;03m\"\"\"\u001B[39;00m\n\u001B[1;32m    560\u001B[0m \u001B[38;5;28;01mif\u001B[39;00m \u001B[38;5;28mlen\u001B[39m(data) \u001B[38;5;241m!=\u001B[39m \u001B[38;5;28mlen\u001B[39m(index):\n\u001B[0;32m--> 561\u001B[0m     \u001B[38;5;28;01mraise\u001B[39;00m \u001B[38;5;167;01mValueError\u001B[39;00m(\n\u001B[1;32m    562\u001B[0m         \u001B[38;5;124m\"\u001B[39m\u001B[38;5;124mLength of values \u001B[39m\u001B[38;5;124m\"\u001B[39m\n\u001B[1;32m    563\u001B[0m         \u001B[38;5;124mf\u001B[39m\u001B[38;5;124m\"\u001B[39m\u001B[38;5;124m(\u001B[39m\u001B[38;5;132;01m{\u001B[39;00m\u001B[38;5;28mlen\u001B[39m(data)\u001B[38;5;132;01m}\u001B[39;00m\u001B[38;5;124m) \u001B[39m\u001B[38;5;124m\"\u001B[39m\n\u001B[1;32m    564\u001B[0m         \u001B[38;5;124m\"\u001B[39m\u001B[38;5;124mdoes not match length of index \u001B[39m\u001B[38;5;124m\"\u001B[39m\n\u001B[1;32m    565\u001B[0m         \u001B[38;5;124mf\u001B[39m\u001B[38;5;124m\"\u001B[39m\u001B[38;5;124m(\u001B[39m\u001B[38;5;132;01m{\u001B[39;00m\u001B[38;5;28mlen\u001B[39m(index)\u001B[38;5;132;01m}\u001B[39;00m\u001B[38;5;124m)\u001B[39m\u001B[38;5;124m\"\u001B[39m\n\u001B[1;32m    566\u001B[0m     )\n",
      "\u001B[0;31mValueError\u001B[0m: Length of values (0) does not match length of index (615)"
     ]
    }
   ],
   "source": [
    "movies['actors'] = []"
   ],
   "metadata": {
    "collapsed": false
   }
  },
  {
   "cell_type": "code",
   "execution_count": null,
   "outputs": [],
   "source": [],
   "metadata": {
    "collapsed": false
   }
  }
 ],
 "metadata": {
  "kernelspec": {
   "display_name": "Python 3",
   "language": "python",
   "name": "python3"
  },
  "language_info": {
   "codemirror_mode": {
    "name": "ipython",
    "version": 2
   },
   "file_extension": ".py",
   "mimetype": "text/x-python",
   "name": "python",
   "nbconvert_exporter": "python",
   "pygments_lexer": "ipython2",
   "version": "2.7.6"
  }
 },
 "nbformat": 4,
 "nbformat_minor": 0
}
